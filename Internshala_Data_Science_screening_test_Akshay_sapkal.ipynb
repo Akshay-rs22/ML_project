{
  "nbformat": 4,
  "nbformat_minor": 0,
  "metadata": {
    "colab": {
      "provenance": [],
      "collapsed_sections": []
    },
    "kernelspec": {
      "name": "python3",
      "display_name": "Python 3"
    },
    "language_info": {
      "name": "python"
    }
  },
  "cells": [
    {
      "cell_type": "code",
      "execution_count": 1,
      "metadata": {
        "id": "dCLjG-rflYff"
      },
      "outputs": [],
      "source": [
        "# Required Python Machine learning Packages\n",
        "import pandas as pd\n",
        "import numpy as np"
      ]
    },
    {
      "cell_type": "code",
      "source": [
        "#import data file\n",
        "iris = pd.read_csv(\"/content/iris.csv\")"
      ],
      "metadata": {
        "id": "uFDxTUznlyHp"
      },
      "execution_count": 2,
      "outputs": []
    },
    {
      "cell_type": "code",
      "source": [
        "iris.head()"
      ],
      "metadata": {
        "colab": {
          "base_uri": "https://localhost:8080/",
          "height": 206
        },
        "id": "h8Y9cpBWnrMd",
        "outputId": "25dce8e4-377c-47fa-a59f-03e382d95bed"
      },
      "execution_count": 3,
      "outputs": [
        {
          "output_type": "execute_result",
          "data": {
            "text/plain": [
              "   sepal_length  sepal_width  petal_length  petal_width      species\n",
              "0           5.1          3.5           1.4          0.2  Iris-setosa\n",
              "1           4.9          3.0           1.4          0.2  Iris-setosa\n",
              "2           4.7          3.2           1.3          0.2  Iris-setosa\n",
              "3           4.6          3.1           1.5          0.2  Iris-setosa\n",
              "4           5.0          3.6           1.4          0.2  Iris-setosa"
            ],
            "text/html": [
              "\n",
              "  <div id=\"df-cbe62b77-3779-4125-9eda-8dbc5c810899\">\n",
              "    <div class=\"colab-df-container\">\n",
              "      <div>\n",
              "<style scoped>\n",
              "    .dataframe tbody tr th:only-of-type {\n",
              "        vertical-align: middle;\n",
              "    }\n",
              "\n",
              "    .dataframe tbody tr th {\n",
              "        vertical-align: top;\n",
              "    }\n",
              "\n",
              "    .dataframe thead th {\n",
              "        text-align: right;\n",
              "    }\n",
              "</style>\n",
              "<table border=\"1\" class=\"dataframe\">\n",
              "  <thead>\n",
              "    <tr style=\"text-align: right;\">\n",
              "      <th></th>\n",
              "      <th>sepal_length</th>\n",
              "      <th>sepal_width</th>\n",
              "      <th>petal_length</th>\n",
              "      <th>petal_width</th>\n",
              "      <th>species</th>\n",
              "    </tr>\n",
              "  </thead>\n",
              "  <tbody>\n",
              "    <tr>\n",
              "      <th>0</th>\n",
              "      <td>5.1</td>\n",
              "      <td>3.5</td>\n",
              "      <td>1.4</td>\n",
              "      <td>0.2</td>\n",
              "      <td>Iris-setosa</td>\n",
              "    </tr>\n",
              "    <tr>\n",
              "      <th>1</th>\n",
              "      <td>4.9</td>\n",
              "      <td>3.0</td>\n",
              "      <td>1.4</td>\n",
              "      <td>0.2</td>\n",
              "      <td>Iris-setosa</td>\n",
              "    </tr>\n",
              "    <tr>\n",
              "      <th>2</th>\n",
              "      <td>4.7</td>\n",
              "      <td>3.2</td>\n",
              "      <td>1.3</td>\n",
              "      <td>0.2</td>\n",
              "      <td>Iris-setosa</td>\n",
              "    </tr>\n",
              "    <tr>\n",
              "      <th>3</th>\n",
              "      <td>4.6</td>\n",
              "      <td>3.1</td>\n",
              "      <td>1.5</td>\n",
              "      <td>0.2</td>\n",
              "      <td>Iris-setosa</td>\n",
              "    </tr>\n",
              "    <tr>\n",
              "      <th>4</th>\n",
              "      <td>5.0</td>\n",
              "      <td>3.6</td>\n",
              "      <td>1.4</td>\n",
              "      <td>0.2</td>\n",
              "      <td>Iris-setosa</td>\n",
              "    </tr>\n",
              "  </tbody>\n",
              "</table>\n",
              "</div>\n",
              "      <button class=\"colab-df-convert\" onclick=\"convertToInteractive('df-cbe62b77-3779-4125-9eda-8dbc5c810899')\"\n",
              "              title=\"Convert this dataframe to an interactive table.\"\n",
              "              style=\"display:none;\">\n",
              "        \n",
              "  <svg xmlns=\"http://www.w3.org/2000/svg\" height=\"24px\"viewBox=\"0 0 24 24\"\n",
              "       width=\"24px\">\n",
              "    <path d=\"M0 0h24v24H0V0z\" fill=\"none\"/>\n",
              "    <path d=\"M18.56 5.44l.94 2.06.94-2.06 2.06-.94-2.06-.94-.94-2.06-.94 2.06-2.06.94zm-11 1L8.5 8.5l.94-2.06 2.06-.94-2.06-.94L8.5 2.5l-.94 2.06-2.06.94zm10 10l.94 2.06.94-2.06 2.06-.94-2.06-.94-.94-2.06-.94 2.06-2.06.94z\"/><path d=\"M17.41 7.96l-1.37-1.37c-.4-.4-.92-.59-1.43-.59-.52 0-1.04.2-1.43.59L10.3 9.45l-7.72 7.72c-.78.78-.78 2.05 0 2.83L4 21.41c.39.39.9.59 1.41.59.51 0 1.02-.2 1.41-.59l7.78-7.78 2.81-2.81c.8-.78.8-2.07 0-2.86zM5.41 20L4 18.59l7.72-7.72 1.47 1.35L5.41 20z\"/>\n",
              "  </svg>\n",
              "      </button>\n",
              "      \n",
              "  <style>\n",
              "    .colab-df-container {\n",
              "      display:flex;\n",
              "      flex-wrap:wrap;\n",
              "      gap: 12px;\n",
              "    }\n",
              "\n",
              "    .colab-df-convert {\n",
              "      background-color: #E8F0FE;\n",
              "      border: none;\n",
              "      border-radius: 50%;\n",
              "      cursor: pointer;\n",
              "      display: none;\n",
              "      fill: #1967D2;\n",
              "      height: 32px;\n",
              "      padding: 0 0 0 0;\n",
              "      width: 32px;\n",
              "    }\n",
              "\n",
              "    .colab-df-convert:hover {\n",
              "      background-color: #E2EBFA;\n",
              "      box-shadow: 0px 1px 2px rgba(60, 64, 67, 0.3), 0px 1px 3px 1px rgba(60, 64, 67, 0.15);\n",
              "      fill: #174EA6;\n",
              "    }\n",
              "\n",
              "    [theme=dark] .colab-df-convert {\n",
              "      background-color: #3B4455;\n",
              "      fill: #D2E3FC;\n",
              "    }\n",
              "\n",
              "    [theme=dark] .colab-df-convert:hover {\n",
              "      background-color: #434B5C;\n",
              "      box-shadow: 0px 1px 3px 1px rgba(0, 0, 0, 0.15);\n",
              "      filter: drop-shadow(0px 1px 2px rgba(0, 0, 0, 0.3));\n",
              "      fill: #FFFFFF;\n",
              "    }\n",
              "  </style>\n",
              "\n",
              "      <script>\n",
              "        const buttonEl =\n",
              "          document.querySelector('#df-cbe62b77-3779-4125-9eda-8dbc5c810899 button.colab-df-convert');\n",
              "        buttonEl.style.display =\n",
              "          google.colab.kernel.accessAllowed ? 'block' : 'none';\n",
              "\n",
              "        async function convertToInteractive(key) {\n",
              "          const element = document.querySelector('#df-cbe62b77-3779-4125-9eda-8dbc5c810899');\n",
              "          const dataTable =\n",
              "            await google.colab.kernel.invokeFunction('convertToInteractive',\n",
              "                                                     [key], {});\n",
              "          if (!dataTable) return;\n",
              "\n",
              "          const docLinkHtml = 'Like what you see? Visit the ' +\n",
              "            '<a target=\"_blank\" href=https://colab.research.google.com/notebooks/data_table.ipynb>data table notebook</a>'\n",
              "            + ' to learn more about interactive tables.';\n",
              "          element.innerHTML = '';\n",
              "          dataTable['output_type'] = 'display_data';\n",
              "          await google.colab.output.renderOutput(dataTable, element);\n",
              "          const docLink = document.createElement('div');\n",
              "          docLink.innerHTML = docLinkHtml;\n",
              "          element.appendChild(docLink);\n",
              "        }\n",
              "      </script>\n",
              "    </div>\n",
              "  </div>\n",
              "  "
            ]
          },
          "metadata": {},
          "execution_count": 3
        }
      ]
    },
    {
      "cell_type": "code",
      "source": [
        "print(iris.dtypes)\n",
        "print(iris.shape)\n",
        "print(iris.describe())"
      ],
      "metadata": {
        "colab": {
          "base_uri": "https://localhost:8080/"
        },
        "id": "fkFhllrmnu4t",
        "outputId": "16b0ddd9-001c-4072-df1b-3f44b1fdecd6"
      },
      "execution_count": 4,
      "outputs": [
        {
          "output_type": "stream",
          "name": "stdout",
          "text": [
            "sepal_length    float64\n",
            "sepal_width     float64\n",
            "petal_length    float64\n",
            "petal_width     float64\n",
            "species          object\n",
            "dtype: object\n",
            "(150, 5)\n",
            "       sepal_length  sepal_width  petal_length  petal_width\n",
            "count    150.000000   150.000000    150.000000   150.000000\n",
            "mean       5.843333     3.054000      3.758667     1.198667\n",
            "std        0.828066     0.433594      1.764420     0.763161\n",
            "min        4.300000     2.000000      1.000000     0.100000\n",
            "25%        5.100000     2.800000      1.600000     0.300000\n",
            "50%        5.800000     3.000000      4.350000     1.300000\n",
            "75%        6.400000     3.300000      5.100000     1.800000\n",
            "max        7.900000     4.400000      6.900000     2.500000\n"
          ]
        }
      ]
    },
    {
      "cell_type": "code",
      "source": [
        "# for see the null value\n",
        "iris.isnull().sum()"
      ],
      "metadata": {
        "colab": {
          "base_uri": "https://localhost:8080/"
        },
        "id": "KKPEmvJIoHxa",
        "outputId": "1c93405b-de6f-4ae9-9e2e-d516bf3c5e06"
      },
      "execution_count": 5,
      "outputs": [
        {
          "output_type": "execute_result",
          "data": {
            "text/plain": [
              "sepal_length    0\n",
              "sepal_width     0\n",
              "petal_length    0\n",
              "petal_width     0\n",
              "species         0\n",
              "dtype: int64"
            ]
          },
          "metadata": {},
          "execution_count": 5
        }
      ]
    },
    {
      "cell_type": "code",
      "source": [
        "#mapping\n",
        "iris['species']=iris['species'].map({'Iris-setosa':0,'Iris-versicolor':1,'Iris-virginica':2})"
      ],
      "metadata": {
        "id": "Wpzri0sqomJk"
      },
      "execution_count": 6,
      "outputs": []
    },
    {
      "cell_type": "code",
      "source": [
        "iris.head()"
      ],
      "metadata": {
        "colab": {
          "base_uri": "https://localhost:8080/",
          "height": 206
        },
        "id": "wlmHad8ApkBt",
        "outputId": "9c260b0b-cd2d-4961-fc1a-84dc6e6ce5ec"
      },
      "execution_count": 7,
      "outputs": [
        {
          "output_type": "execute_result",
          "data": {
            "text/plain": [
              "   sepal_length  sepal_width  petal_length  petal_width  species\n",
              "0           5.1          3.5           1.4          0.2        0\n",
              "1           4.9          3.0           1.4          0.2        0\n",
              "2           4.7          3.2           1.3          0.2        0\n",
              "3           4.6          3.1           1.5          0.2        0\n",
              "4           5.0          3.6           1.4          0.2        0"
            ],
            "text/html": [
              "\n",
              "  <div id=\"df-c1e1bc4e-3079-40e0-98e0-7fa132e39e33\">\n",
              "    <div class=\"colab-df-container\">\n",
              "      <div>\n",
              "<style scoped>\n",
              "    .dataframe tbody tr th:only-of-type {\n",
              "        vertical-align: middle;\n",
              "    }\n",
              "\n",
              "    .dataframe tbody tr th {\n",
              "        vertical-align: top;\n",
              "    }\n",
              "\n",
              "    .dataframe thead th {\n",
              "        text-align: right;\n",
              "    }\n",
              "</style>\n",
              "<table border=\"1\" class=\"dataframe\">\n",
              "  <thead>\n",
              "    <tr style=\"text-align: right;\">\n",
              "      <th></th>\n",
              "      <th>sepal_length</th>\n",
              "      <th>sepal_width</th>\n",
              "      <th>petal_length</th>\n",
              "      <th>petal_width</th>\n",
              "      <th>species</th>\n",
              "    </tr>\n",
              "  </thead>\n",
              "  <tbody>\n",
              "    <tr>\n",
              "      <th>0</th>\n",
              "      <td>5.1</td>\n",
              "      <td>3.5</td>\n",
              "      <td>1.4</td>\n",
              "      <td>0.2</td>\n",
              "      <td>0</td>\n",
              "    </tr>\n",
              "    <tr>\n",
              "      <th>1</th>\n",
              "      <td>4.9</td>\n",
              "      <td>3.0</td>\n",
              "      <td>1.4</td>\n",
              "      <td>0.2</td>\n",
              "      <td>0</td>\n",
              "    </tr>\n",
              "    <tr>\n",
              "      <th>2</th>\n",
              "      <td>4.7</td>\n",
              "      <td>3.2</td>\n",
              "      <td>1.3</td>\n",
              "      <td>0.2</td>\n",
              "      <td>0</td>\n",
              "    </tr>\n",
              "    <tr>\n",
              "      <th>3</th>\n",
              "      <td>4.6</td>\n",
              "      <td>3.1</td>\n",
              "      <td>1.5</td>\n",
              "      <td>0.2</td>\n",
              "      <td>0</td>\n",
              "    </tr>\n",
              "    <tr>\n",
              "      <th>4</th>\n",
              "      <td>5.0</td>\n",
              "      <td>3.6</td>\n",
              "      <td>1.4</td>\n",
              "      <td>0.2</td>\n",
              "      <td>0</td>\n",
              "    </tr>\n",
              "  </tbody>\n",
              "</table>\n",
              "</div>\n",
              "      <button class=\"colab-df-convert\" onclick=\"convertToInteractive('df-c1e1bc4e-3079-40e0-98e0-7fa132e39e33')\"\n",
              "              title=\"Convert this dataframe to an interactive table.\"\n",
              "              style=\"display:none;\">\n",
              "        \n",
              "  <svg xmlns=\"http://www.w3.org/2000/svg\" height=\"24px\"viewBox=\"0 0 24 24\"\n",
              "       width=\"24px\">\n",
              "    <path d=\"M0 0h24v24H0V0z\" fill=\"none\"/>\n",
              "    <path d=\"M18.56 5.44l.94 2.06.94-2.06 2.06-.94-2.06-.94-.94-2.06-.94 2.06-2.06.94zm-11 1L8.5 8.5l.94-2.06 2.06-.94-2.06-.94L8.5 2.5l-.94 2.06-2.06.94zm10 10l.94 2.06.94-2.06 2.06-.94-2.06-.94-.94-2.06-.94 2.06-2.06.94z\"/><path d=\"M17.41 7.96l-1.37-1.37c-.4-.4-.92-.59-1.43-.59-.52 0-1.04.2-1.43.59L10.3 9.45l-7.72 7.72c-.78.78-.78 2.05 0 2.83L4 21.41c.39.39.9.59 1.41.59.51 0 1.02-.2 1.41-.59l7.78-7.78 2.81-2.81c.8-.78.8-2.07 0-2.86zM5.41 20L4 18.59l7.72-7.72 1.47 1.35L5.41 20z\"/>\n",
              "  </svg>\n",
              "      </button>\n",
              "      \n",
              "  <style>\n",
              "    .colab-df-container {\n",
              "      display:flex;\n",
              "      flex-wrap:wrap;\n",
              "      gap: 12px;\n",
              "    }\n",
              "\n",
              "    .colab-df-convert {\n",
              "      background-color: #E8F0FE;\n",
              "      border: none;\n",
              "      border-radius: 50%;\n",
              "      cursor: pointer;\n",
              "      display: none;\n",
              "      fill: #1967D2;\n",
              "      height: 32px;\n",
              "      padding: 0 0 0 0;\n",
              "      width: 32px;\n",
              "    }\n",
              "\n",
              "    .colab-df-convert:hover {\n",
              "      background-color: #E2EBFA;\n",
              "      box-shadow: 0px 1px 2px rgba(60, 64, 67, 0.3), 0px 1px 3px 1px rgba(60, 64, 67, 0.15);\n",
              "      fill: #174EA6;\n",
              "    }\n",
              "\n",
              "    [theme=dark] .colab-df-convert {\n",
              "      background-color: #3B4455;\n",
              "      fill: #D2E3FC;\n",
              "    }\n",
              "\n",
              "    [theme=dark] .colab-df-convert:hover {\n",
              "      background-color: #434B5C;\n",
              "      box-shadow: 0px 1px 3px 1px rgba(0, 0, 0, 0.15);\n",
              "      filter: drop-shadow(0px 1px 2px rgba(0, 0, 0, 0.3));\n",
              "      fill: #FFFFFF;\n",
              "    }\n",
              "  </style>\n",
              "\n",
              "      <script>\n",
              "        const buttonEl =\n",
              "          document.querySelector('#df-c1e1bc4e-3079-40e0-98e0-7fa132e39e33 button.colab-df-convert');\n",
              "        buttonEl.style.display =\n",
              "          google.colab.kernel.accessAllowed ? 'block' : 'none';\n",
              "\n",
              "        async function convertToInteractive(key) {\n",
              "          const element = document.querySelector('#df-c1e1bc4e-3079-40e0-98e0-7fa132e39e33');\n",
              "          const dataTable =\n",
              "            await google.colab.kernel.invokeFunction('convertToInteractive',\n",
              "                                                     [key], {});\n",
              "          if (!dataTable) return;\n",
              "\n",
              "          const docLinkHtml = 'Like what you see? Visit the ' +\n",
              "            '<a target=\"_blank\" href=https://colab.research.google.com/notebooks/data_table.ipynb>data table notebook</a>'\n",
              "            + ' to learn more about interactive tables.';\n",
              "          element.innerHTML = '';\n",
              "          dataTable['output_type'] = 'display_data';\n",
              "          await google.colab.output.renderOutput(dataTable, element);\n",
              "          const docLink = document.createElement('div');\n",
              "          docLink.innerHTML = docLinkHtml;\n",
              "          element.appendChild(docLink);\n",
              "        }\n",
              "      </script>\n",
              "    </div>\n",
              "  </div>\n",
              "  "
            ]
          },
          "metadata": {},
          "execution_count": 7
        }
      ]
    },
    {
      "cell_type": "code",
      "source": [
        "#split dependent and independent variable\n",
        "X = iris.values[:,0:-1] #select all columns only last column is not consider,\n",
        "Y = iris.values[:,-1] # select only last column,"
      ],
      "metadata": {
        "id": "uoGnGGJ_pnWG"
      },
      "execution_count": 8,
      "outputs": []
    },
    {
      "cell_type": "code",
      "source": [
        "#feature scaling techniques\n",
        "from sklearn.preprocessing import StandardScaler\n",
        "scaler = StandardScaler()\n",
        "scaler.fit(X)\n",
        "X = scaler.transform(X)\n",
        "print(X) "
      ],
      "metadata": {
        "colab": {
          "base_uri": "https://localhost:8080/"
        },
        "id": "KfWwEhxpqq4f",
        "outputId": "cffbaec7-9237-47eb-d2f2-f90bfe8ddeac"
      },
      "execution_count": 9,
      "outputs": [
        {
          "output_type": "stream",
          "name": "stdout",
          "text": [
            "[[-9.00681170e-01  1.03205722e+00 -1.34127240e+00 -1.31297673e+00]\n",
            " [-1.14301691e+00 -1.24957601e-01 -1.34127240e+00 -1.31297673e+00]\n",
            " [-1.38535265e+00  3.37848329e-01 -1.39813811e+00 -1.31297673e+00]\n",
            " [-1.50652052e+00  1.06445364e-01 -1.28440670e+00 -1.31297673e+00]\n",
            " [-1.02184904e+00  1.26346019e+00 -1.34127240e+00 -1.31297673e+00]\n",
            " [-5.37177559e-01  1.95766909e+00 -1.17067529e+00 -1.05003079e+00]\n",
            " [-1.50652052e+00  8.00654259e-01 -1.34127240e+00 -1.18150376e+00]\n",
            " [-1.02184904e+00  8.00654259e-01 -1.28440670e+00 -1.31297673e+00]\n",
            " [-1.74885626e+00 -3.56360566e-01 -1.34127240e+00 -1.31297673e+00]\n",
            " [-1.14301691e+00  1.06445364e-01 -1.28440670e+00 -1.44444970e+00]\n",
            " [-5.37177559e-01  1.49486315e+00 -1.28440670e+00 -1.31297673e+00]\n",
            " [-1.26418478e+00  8.00654259e-01 -1.22754100e+00 -1.31297673e+00]\n",
            " [-1.26418478e+00 -1.24957601e-01 -1.34127240e+00 -1.44444970e+00]\n",
            " [-1.87002413e+00 -1.24957601e-01 -1.51186952e+00 -1.44444970e+00]\n",
            " [-5.25060772e-02  2.18907205e+00 -1.45500381e+00 -1.31297673e+00]\n",
            " [-1.73673948e-01  3.11468391e+00 -1.28440670e+00 -1.05003079e+00]\n",
            " [-5.37177559e-01  1.95766909e+00 -1.39813811e+00 -1.05003079e+00]\n",
            " [-9.00681170e-01  1.03205722e+00 -1.34127240e+00 -1.18150376e+00]\n",
            " [-1.73673948e-01  1.72626612e+00 -1.17067529e+00 -1.18150376e+00]\n",
            " [-9.00681170e-01  1.72626612e+00 -1.28440670e+00 -1.18150376e+00]\n",
            " [-5.37177559e-01  8.00654259e-01 -1.17067529e+00 -1.31297673e+00]\n",
            " [-9.00681170e-01  1.49486315e+00 -1.28440670e+00 -1.05003079e+00]\n",
            " [-1.50652052e+00  1.26346019e+00 -1.56873522e+00 -1.31297673e+00]\n",
            " [-9.00681170e-01  5.69251294e-01 -1.17067529e+00 -9.18557817e-01]\n",
            " [-1.26418478e+00  8.00654259e-01 -1.05694388e+00 -1.31297673e+00]\n",
            " [-1.02184904e+00 -1.24957601e-01 -1.22754100e+00 -1.31297673e+00]\n",
            " [-1.02184904e+00  8.00654259e-01 -1.22754100e+00 -1.05003079e+00]\n",
            " [-7.79513300e-01  1.03205722e+00 -1.28440670e+00 -1.31297673e+00]\n",
            " [-7.79513300e-01  8.00654259e-01 -1.34127240e+00 -1.31297673e+00]\n",
            " [-1.38535265e+00  3.37848329e-01 -1.22754100e+00 -1.31297673e+00]\n",
            " [-1.26418478e+00  1.06445364e-01 -1.22754100e+00 -1.31297673e+00]\n",
            " [-5.37177559e-01  8.00654259e-01 -1.28440670e+00 -1.05003079e+00]\n",
            " [-7.79513300e-01  2.42047502e+00 -1.28440670e+00 -1.44444970e+00]\n",
            " [-4.16009689e-01  2.65187798e+00 -1.34127240e+00 -1.31297673e+00]\n",
            " [-1.14301691e+00  1.06445364e-01 -1.28440670e+00 -1.44444970e+00]\n",
            " [-1.02184904e+00  3.37848329e-01 -1.45500381e+00 -1.31297673e+00]\n",
            " [-4.16009689e-01  1.03205722e+00 -1.39813811e+00 -1.31297673e+00]\n",
            " [-1.14301691e+00  1.06445364e-01 -1.28440670e+00 -1.44444970e+00]\n",
            " [-1.74885626e+00 -1.24957601e-01 -1.39813811e+00 -1.31297673e+00]\n",
            " [-9.00681170e-01  8.00654259e-01 -1.28440670e+00 -1.31297673e+00]\n",
            " [-1.02184904e+00  1.03205722e+00 -1.39813811e+00 -1.18150376e+00]\n",
            " [-1.62768839e+00 -1.74477836e+00 -1.39813811e+00 -1.18150376e+00]\n",
            " [-1.74885626e+00  3.37848329e-01 -1.39813811e+00 -1.31297673e+00]\n",
            " [-1.02184904e+00  1.03205722e+00 -1.22754100e+00 -7.87084847e-01]\n",
            " [-9.00681170e-01  1.72626612e+00 -1.05694388e+00 -1.05003079e+00]\n",
            " [-1.26418478e+00 -1.24957601e-01 -1.34127240e+00 -1.18150376e+00]\n",
            " [-9.00681170e-01  1.72626612e+00 -1.22754100e+00 -1.31297673e+00]\n",
            " [-1.50652052e+00  3.37848329e-01 -1.34127240e+00 -1.31297673e+00]\n",
            " [-6.58345429e-01  1.49486315e+00 -1.28440670e+00 -1.31297673e+00]\n",
            " [-1.02184904e+00  5.69251294e-01 -1.34127240e+00 -1.31297673e+00]\n",
            " [ 1.40150837e+00  3.37848329e-01  5.35295827e-01  2.64698913e-01]\n",
            " [ 6.74501145e-01  3.37848329e-01  4.21564419e-01  3.96171883e-01]\n",
            " [ 1.28034050e+00  1.06445364e-01  6.49027235e-01  3.96171883e-01]\n",
            " [-4.16009689e-01 -1.74477836e+00  1.37235899e-01  1.33225943e-01]\n",
            " [ 7.95669016e-01 -5.87763531e-01  4.78430123e-01  3.96171883e-01]\n",
            " [-1.73673948e-01 -5.87763531e-01  4.21564419e-01  1.33225943e-01]\n",
            " [ 5.53333275e-01  5.69251294e-01  5.35295827e-01  5.27644853e-01]\n",
            " [-1.14301691e+00 -1.51337539e+00 -2.60824029e-01 -2.61192967e-01]\n",
            " [ 9.16836886e-01 -3.56360566e-01  4.78430123e-01  1.33225943e-01]\n",
            " [-7.79513300e-01 -8.19166497e-01  8.03701950e-02  2.64698913e-01]\n",
            " [-1.02184904e+00 -2.43898725e+00 -1.47092621e-01 -2.61192967e-01]\n",
            " [ 6.86617933e-02 -1.24957601e-01  2.50967307e-01  3.96171883e-01]\n",
            " [ 1.89829664e-01 -1.97618132e+00  1.37235899e-01 -2.61192967e-01]\n",
            " [ 3.10997534e-01 -3.56360566e-01  5.35295827e-01  2.64698913e-01]\n",
            " [-2.94841818e-01 -3.56360566e-01 -9.02269170e-02  1.33225943e-01]\n",
            " [ 1.03800476e+00  1.06445364e-01  3.64698715e-01  2.64698913e-01]\n",
            " [-2.94841818e-01 -1.24957601e-01  4.21564419e-01  3.96171883e-01]\n",
            " [-5.25060772e-02 -8.19166497e-01  1.94101603e-01 -2.61192967e-01]\n",
            " [ 4.32165405e-01 -1.97618132e+00  4.21564419e-01  3.96171883e-01]\n",
            " [-2.94841818e-01 -1.28197243e+00  8.03701950e-02 -1.29719997e-01]\n",
            " [ 6.86617933e-02  3.37848329e-01  5.92161531e-01  7.90590793e-01]\n",
            " [ 3.10997534e-01 -5.87763531e-01  1.37235899e-01  1.33225943e-01]\n",
            " [ 5.53333275e-01 -1.28197243e+00  6.49027235e-01  3.96171883e-01]\n",
            " [ 3.10997534e-01 -5.87763531e-01  5.35295827e-01  1.75297293e-03]\n",
            " [ 6.74501145e-01 -3.56360566e-01  3.07833011e-01  1.33225943e-01]\n",
            " [ 9.16836886e-01 -1.24957601e-01  3.64698715e-01  2.64698913e-01]\n",
            " [ 1.15917263e+00 -5.87763531e-01  5.92161531e-01  2.64698913e-01]\n",
            " [ 1.03800476e+00 -1.24957601e-01  7.05892939e-01  6.59117823e-01]\n",
            " [ 1.89829664e-01 -3.56360566e-01  4.21564419e-01  3.96171883e-01]\n",
            " [-1.73673948e-01 -1.05056946e+00 -1.47092621e-01 -2.61192967e-01]\n",
            " [-4.16009689e-01 -1.51337539e+00  2.35044910e-02 -1.29719997e-01]\n",
            " [-4.16009689e-01 -1.51337539e+00 -3.33612130e-02 -2.61192967e-01]\n",
            " [-5.25060772e-02 -8.19166497e-01  8.03701950e-02  1.75297293e-03]\n",
            " [ 1.89829664e-01 -8.19166497e-01  7.62758643e-01  5.27644853e-01]\n",
            " [-5.37177559e-01 -1.24957601e-01  4.21564419e-01  3.96171883e-01]\n",
            " [ 1.89829664e-01  8.00654259e-01  4.21564419e-01  5.27644853e-01]\n",
            " [ 1.03800476e+00  1.06445364e-01  5.35295827e-01  3.96171883e-01]\n",
            " [ 5.53333275e-01 -1.74477836e+00  3.64698715e-01  1.33225943e-01]\n",
            " [-2.94841818e-01 -1.24957601e-01  1.94101603e-01  1.33225943e-01]\n",
            " [-4.16009689e-01 -1.28197243e+00  1.37235899e-01  1.33225943e-01]\n",
            " [-4.16009689e-01 -1.05056946e+00  3.64698715e-01  1.75297293e-03]\n",
            " [ 3.10997534e-01 -1.24957601e-01  4.78430123e-01  2.64698913e-01]\n",
            " [-5.25060772e-02 -1.05056946e+00  1.37235899e-01  1.75297293e-03]\n",
            " [-1.02184904e+00 -1.74477836e+00 -2.60824029e-01 -2.61192967e-01]\n",
            " [-2.94841818e-01 -8.19166497e-01  2.50967307e-01  1.33225943e-01]\n",
            " [-1.73673948e-01 -1.24957601e-01  2.50967307e-01  1.75297293e-03]\n",
            " [-1.73673948e-01 -3.56360566e-01  2.50967307e-01  1.33225943e-01]\n",
            " [ 4.32165405e-01 -3.56360566e-01  3.07833011e-01  1.33225943e-01]\n",
            " [-9.00681170e-01 -1.28197243e+00 -4.31421141e-01 -1.29719997e-01]\n",
            " [-1.73673948e-01 -5.87763531e-01  1.94101603e-01  1.33225943e-01]\n",
            " [ 5.53333275e-01  5.69251294e-01  1.27454998e+00  1.71090158e+00]\n",
            " [-5.25060772e-02 -8.19166497e-01  7.62758643e-01  9.22063763e-01]\n",
            " [ 1.52267624e+00 -1.24957601e-01  1.21768427e+00  1.18500970e+00]\n",
            " [ 5.53333275e-01 -3.56360566e-01  1.04708716e+00  7.90590793e-01]\n",
            " [ 7.95669016e-01 -1.24957601e-01  1.16081857e+00  1.31648267e+00]\n",
            " [ 2.12851559e+00 -1.24957601e-01  1.61574420e+00  1.18500970e+00]\n",
            " [-1.14301691e+00 -1.28197243e+00  4.21564419e-01  6.59117823e-01]\n",
            " [ 1.76501198e+00 -3.56360566e-01  1.44514709e+00  7.90590793e-01]\n",
            " [ 1.03800476e+00 -1.28197243e+00  1.16081857e+00  7.90590793e-01]\n",
            " [ 1.64384411e+00  1.26346019e+00  1.33141568e+00  1.71090158e+00]\n",
            " [ 7.95669016e-01  3.37848329e-01  7.62758643e-01  1.05353673e+00]\n",
            " [ 6.74501145e-01 -8.19166497e-01  8.76490051e-01  9.22063763e-01]\n",
            " [ 1.15917263e+00 -1.24957601e-01  9.90221459e-01  1.18500970e+00]\n",
            " [-1.73673948e-01 -1.28197243e+00  7.05892939e-01  1.05353673e+00]\n",
            " [-5.25060772e-02 -5.87763531e-01  7.62758643e-01  1.57942861e+00]\n",
            " [ 6.74501145e-01  3.37848329e-01  8.76490051e-01  1.44795564e+00]\n",
            " [ 7.95669016e-01 -1.24957601e-01  9.90221459e-01  7.90590793e-01]\n",
            " [ 2.24968346e+00  1.72626612e+00  1.67260991e+00  1.31648267e+00]\n",
            " [ 2.24968346e+00 -1.05056946e+00  1.78634131e+00  1.44795564e+00]\n",
            " [ 1.89829664e-01 -1.97618132e+00  7.05892939e-01  3.96171883e-01]\n",
            " [ 1.28034050e+00  3.37848329e-01  1.10395287e+00  1.44795564e+00]\n",
            " [-2.94841818e-01 -5.87763531e-01  6.49027235e-01  1.05353673e+00]\n",
            " [ 2.24968346e+00 -5.87763531e-01  1.67260991e+00  1.05353673e+00]\n",
            " [ 5.53333275e-01 -8.19166497e-01  6.49027235e-01  7.90590793e-01]\n",
            " [ 1.03800476e+00  5.69251294e-01  1.10395287e+00  1.18500970e+00]\n",
            " [ 1.64384411e+00  3.37848329e-01  1.27454998e+00  7.90590793e-01]\n",
            " [ 4.32165405e-01 -5.87763531e-01  5.92161531e-01  7.90590793e-01]\n",
            " [ 3.10997534e-01 -1.24957601e-01  6.49027235e-01  7.90590793e-01]\n",
            " [ 6.74501145e-01 -5.87763531e-01  1.04708716e+00  1.18500970e+00]\n",
            " [ 1.64384411e+00 -1.24957601e-01  1.16081857e+00  5.27644853e-01]\n",
            " [ 1.88617985e+00 -5.87763531e-01  1.33141568e+00  9.22063763e-01]\n",
            " [ 2.49201920e+00  1.72626612e+00  1.50201279e+00  1.05353673e+00]\n",
            " [ 6.74501145e-01 -5.87763531e-01  1.04708716e+00  1.31648267e+00]\n",
            " [ 5.53333275e-01 -5.87763531e-01  7.62758643e-01  3.96171883e-01]\n",
            " [ 3.10997534e-01 -1.05056946e+00  1.04708716e+00  2.64698913e-01]\n",
            " [ 2.24968346e+00 -1.24957601e-01  1.33141568e+00  1.44795564e+00]\n",
            " [ 5.53333275e-01  8.00654259e-01  1.04708716e+00  1.57942861e+00]\n",
            " [ 6.74501145e-01  1.06445364e-01  9.90221459e-01  7.90590793e-01]\n",
            " [ 1.89829664e-01 -1.24957601e-01  5.92161531e-01  7.90590793e-01]\n",
            " [ 1.28034050e+00  1.06445364e-01  9.33355755e-01  1.18500970e+00]\n",
            " [ 1.03800476e+00  1.06445364e-01  1.04708716e+00  1.57942861e+00]\n",
            " [ 1.28034050e+00  1.06445364e-01  7.62758643e-01  1.44795564e+00]\n",
            " [-5.25060772e-02 -8.19166497e-01  7.62758643e-01  9.22063763e-01]\n",
            " [ 1.15917263e+00  3.37848329e-01  1.21768427e+00  1.44795564e+00]\n",
            " [ 1.03800476e+00  5.69251294e-01  1.10395287e+00  1.71090158e+00]\n",
            " [ 1.03800476e+00 -1.24957601e-01  8.19624347e-01  1.44795564e+00]\n",
            " [ 5.53333275e-01 -1.28197243e+00  7.05892939e-01  9.22063763e-01]\n",
            " [ 7.95669016e-01 -1.24957601e-01  8.19624347e-01  1.05353673e+00]\n",
            " [ 4.32165405e-01  8.00654259e-01  9.33355755e-01  1.44795564e+00]\n",
            " [ 6.86617933e-02 -1.24957601e-01  7.62758643e-01  7.90590793e-01]]\n"
          ]
        }
      ]
    },
    {
      "cell_type": "code",
      "source": [
        "#split the data in train and test by 80% and 20%\n",
        "\n",
        "from sklearn.model_selection import train_test_split\n",
        "\n",
        "X_train, X_test, Y_train, Y_test = train_test_split(X, Y, test_size=0.2,\n",
        "random_state=1)"
      ],
      "metadata": {
        "id": "sO03a3wTrFgG"
      },
      "execution_count": 10,
      "outputs": []
    },
    {
      "cell_type": "code",
      "source": [
        "#model building for logistic regression.\n",
        "from sklearn.linear_model import LogisticRegression\n",
        "LogisticRegression = LogisticRegression(penalty='l2', max_iter=50 ) #for penality in that case only support 'l2'\n",
        "LogisticRegression.fit(X_train, Y_train)\n",
        "Y_pred=LogisticRegression.predict(X_test)\n",
        "print(Y_pred)"
      ],
      "metadata": {
        "colab": {
          "base_uri": "https://localhost:8080/"
        },
        "id": "18b8cjEXs-lj",
        "outputId": "9207f759-e540-4ff8-b36e-f9336da630e0"
      },
      "execution_count": 96,
      "outputs": [
        {
          "output_type": "stream",
          "name": "stdout",
          "text": [
            "[0. 1. 1. 0. 2. 1. 2. 0. 0. 2. 1. 0. 2. 1. 1. 0. 1. 1. 0. 0. 1. 1. 2. 0.\n",
            " 2. 1. 0. 0. 1. 2.]\n"
          ]
        }
      ]
    },
    {
      "cell_type": "code",
      "source": [
        "from sklearn.metrics import confusion_matrix, accuracy_score, classification_report\n",
        "\n",
        "cfm=confusion_matrix(Y_test,Y_pred)\n",
        "print(cfm)\n",
        "\n",
        "print(\"Classification report: \")\n",
        "\n",
        "print(classification_report(Y_test,Y_pred))\n",
        "\n",
        "acc=accuracy_score(Y_test, Y_pred)\n",
        "print(\"Accuracy of the model: \",acc)"
      ],
      "metadata": {
        "colab": {
          "base_uri": "https://localhost:8080/"
        },
        "id": "jEHekYMhtbmp",
        "outputId": "fbaf97b7-2245-4541-f430-578112918d5c"
      },
      "execution_count": 94,
      "outputs": [
        {
          "output_type": "stream",
          "name": "stdout",
          "text": [
            "[[11  0  0]\n",
            " [ 0 12  1]\n",
            " [ 0  0  6]]\n",
            "Classification report: \n",
            "              precision    recall  f1-score   support\n",
            "\n",
            "         0.0       1.00      1.00      1.00        11\n",
            "         1.0       1.00      0.92      0.96        13\n",
            "         2.0       0.86      1.00      0.92         6\n",
            "\n",
            "    accuracy                           0.97        30\n",
            "   macro avg       0.95      0.97      0.96        30\n",
            "weighted avg       0.97      0.97      0.97        30\n",
            "\n",
            "Accuracy of the model:  0.9666666666666667\n"
          ]
        }
      ]
    },
    {
      "cell_type": "markdown",
      "source": [
        "for random state = 45, Accuracy of the model:  0.9666666666666667\n",
        "        \n",
        "for random state = 10, Accuracy of the model:  1.0\n",
        "\n",
        "for random state = 1, Accuracy of the model:  0.9666666666666667"
      ],
      "metadata": {
        "id": "RsqaPxvPt247"
      }
    },
    {
      "cell_type": "code",
      "source": [
        "# use cross validation\n",
        "\n",
        "\n",
        "from sklearn.model_selection import KFold\n",
        "kfold_cv = KFold(n_splits = 6, random_state = 1,shuffle=True)\n",
        "\n",
        "from sklearn.model_selection import cross_val_score\n",
        "\n",
        "kfold_cv_result = cross_val_score(estimator = LogisticRegression, X=X_train, y = Y_train, cv = kfold_cv)\n",
        "\n",
        "print(kfold_cv_result)\n",
        "print(kfold_cv_result.mean())"
      ],
      "metadata": {
        "colab": {
          "base_uri": "https://localhost:8080/"
        },
        "id": "SJbcy-4vuKLa",
        "outputId": "bd6bb29f-d39b-4f99-9c08-ac31141574bf"
      },
      "execution_count": 99,
      "outputs": [
        {
          "output_type": "stream",
          "name": "stdout",
          "text": [
            "[1.   1.   0.95 1.   0.95 0.9 ]\n",
            "0.9666666666666668\n"
          ]
        }
      ]
    },
    {
      "cell_type": "markdown",
      "source": [
        "when we use cross validation for n_splits = 6 then gives same accuracy score that means our model is not overfited"
      ],
      "metadata": {
        "id": "thSaM9g51uWR"
      }
    },
    {
      "cell_type": "code",
      "source": [
        "#this code use when we get difference in above cross validation result and original algorithm \n",
        "\n",
        "for train_value, test_value in kfold_cv.split(X_train):\n",
        "  classifier.fit(X_train[train_value],Y_train[train_value]).predict(X_train[test_value])\n",
        "Y_pred=classifier.predict(X_test)"
      ],
      "metadata": {
        "id": "UKVZTuzkyoz_"
      },
      "execution_count": 14,
      "outputs": []
    },
    {
      "cell_type": "code",
      "source": [
        "acc=accuracy_score(Y_test, Y_pred)\n",
        "print(\"Accuracy of the model: \",acc)"
      ],
      "metadata": {
        "colab": {
          "base_uri": "https://localhost:8080/"
        },
        "id": "hGY1HKzF1nln",
        "outputId": "d22eb369-4c67-40ab-9029-ba4c22935c3e"
      },
      "execution_count": 15,
      "outputs": [
        {
          "output_type": "stream",
          "name": "stdout",
          "text": [
            "Accuracy of the model:  0.9333333333333333\n"
          ]
        }
      ]
    },
    {
      "cell_type": "code",
      "source": [],
      "metadata": {
        "id": "OZ5pPZpD8IKh"
      },
      "execution_count": 15,
      "outputs": []
    },
    {
      "cell_type": "markdown",
      "source": [
        "=====Random forest 1====="
      ],
      "metadata": {
        "id": "dwQ_IDjb82De"
      }
    },
    {
      "cell_type": "code",
      "source": [
        "from sklearn.ensemble import RandomForestClassifier\n",
        "\n",
        "\n",
        "Random_Forest_Classifier=RandomForestClassifier(n_estimators=30, criterion='gini', max_depth=30, min_samples_leaf=5 )\n",
        "\n",
        "#fit the model on the data and predict the values\n",
        "Random_Forest_Classifier.fit(X_train,Y_train)\n",
        "\n",
        "Y_pred=Random_Forest_Classifier.predict(X_test)\n",
        "\n",
        "\n",
        "from sklearn.metrics import confusion_matrix, accuracy_score,classification_report\n",
        "#confusion matrix\n",
        "#print(confusion_matrix(Y_test,Y_pred))\n",
        "print(accuracy_score(Y_test,Y_pred))\n",
        "#print(classification_report(Y_test,Y_pred))"
      ],
      "metadata": {
        "colab": {
          "base_uri": "https://localhost:8080/"
        },
        "id": "UG0Lnwt-88RH",
        "outputId": "3964a082-d04f-4bab-b2ce-903cd1a751b0"
      },
      "execution_count": 16,
      "outputs": [
        {
          "output_type": "stream",
          "name": "stdout",
          "text": [
            "0.9666666666666667\n"
          ]
        }
      ]
    },
    {
      "cell_type": "markdown",
      "source": [
        "=====Random forest 2====="
      ],
      "metadata": {
        "id": "wT2Sri1DB-Eq"
      }
    },
    {
      "cell_type": "code",
      "source": [
        "\n",
        "from sklearn.ensemble import RandomForestRegressor\n",
        "\n",
        "Random_Forest_Regressor=RandomForestRegressor(n_estimators=20, criterion='squared_error', max_depth=25, min_samples_leaf=5 )\n",
        "\n",
        "Random_Forest_Regressor.fit(X_train,Y_train)\n",
        "\n",
        "Y_pred=Random_Forest_Regressor.predict(X_test)\n",
        "\n",
        "\n",
        "from sklearn.metrics import accuracy_score\n",
        "\n",
        "from sklearn import metrics\n",
        "\n",
        "print('Mean Absolute Error:', metrics.mean_absolute_error(Y_test, Y_pred))\n",
        "print('Mean Squared Error:', metrics.mean_squared_error(Y_test, Y_pred))\n",
        "print('Root Mean Squared Error:', np.sqrt(metrics.mean_squared_error(Y_test, Y_pred)))"
      ],
      "metadata": {
        "colab": {
          "base_uri": "https://localhost:8080/"
        },
        "id": "5QDBRttN9Bf_",
        "outputId": "21d8aee5-868e-4a71-d748-f503a0b70a93"
      },
      "execution_count": 17,
      "outputs": [
        {
          "output_type": "stream",
          "name": "stdout",
          "text": [
            "Mean Absolute Error: 0.049485449735449744\n",
            "Mean Squared Error: 0.029441897199950332\n",
            "Root Mean Squared Error: 0.17158641321488813\n"
          ]
        }
      ]
    },
    {
      "cell_type": "markdown",
      "source": [
        "THIS PROBLEM IS CLASSIFICATION PROBLEM THEREFOR REGRESSOR GIVES BAD ACCURACY COMPARE TO CLASSIFIER"
      ],
      "metadata": {
        "id": "XjrvE390iHWn"
      }
    },
    {
      "cell_type": "markdown",
      "source": [
        "====== Gradient Boosted Trees======="
      ],
      "metadata": {
        "id": "nVzQhCjNCY-4"
      }
    },
    {
      "cell_type": "code",
      "source": [
        "from sklearn.ensemble import GradientBoostingClassifier\n",
        "\n",
        "# loss='deviance', learning_rate=0.1, n_estimators=(67,89), subsample=(1,2),max_depth=(5,7), n_iter_no_change=(20,40)\n",
        "#but subsample must be in (0,1]\n",
        "GradientBoostedTrees = GradientBoostingClassifier( loss='deviance', learning_rate=0.1, n_estimators=89, subsample=1, max_depth=7, n_iter_no_change=40 )\n",
        "\n",
        "GradientBoostedTrees.fit(X_train, Y_train)\n",
        "Y_pred=GradientBoostedTrees.predict(X_test)\n",
        "\n",
        "\n",
        "from sklearn.metrics import confusion_matrix, accuracy_score,classification_report\n",
        "#confusion matrix\n",
        "#print(confusion_matrix(Y_test,Y_pred))\n",
        "print(accuracy_score(Y_test,Y_pred))\n",
        "#print(classification_report(Y_test,Y_pred))"
      ],
      "metadata": {
        "colab": {
          "base_uri": "https://localhost:8080/"
        },
        "id": "6QVNV7PTB9a0",
        "outputId": "6ed561f9-607a-4483-8c92-bd4e445385aa"
      },
      "execution_count": 18,
      "outputs": [
        {
          "output_type": "stream",
          "name": "stdout",
          "text": [
            "0.9666666666666667\n"
          ]
        }
      ]
    },
    {
      "cell_type": "markdown",
      "source": [
        "======Decsion Tree======="
      ],
      "metadata": {
        "id": "vbQToUYDUiNg"
      }
    },
    {
      "cell_type": "code",
      "source": [
        "from sklearn.tree import DecisionTreeClassifier\n",
        "\n",
        "#Decision_Tree = DecisionTreeClassifier(  criterion='entropy', max_depth=(4,7),splitter='best', min_samples_leaf=(6,12))\n",
        "\n",
        "Decision_Tree = DecisionTreeClassifier(  criterion='entropy', max_depth=7,splitter='best', min_samples_leaf=12)\n",
        "\n",
        "Decision_Tree.fit(X_train, Y_train)\n",
        "Y_pred=Decision_Tree.predict(X_test)\n",
        "\n",
        "\n",
        "from sklearn.metrics import confusion_matrix, accuracy_score,classification_report\n",
        "#confusion matrix\n",
        "#print(confusion_matrix(Y_test,Y_pred))\n",
        "print(accuracy_score(Y_test,Y_pred))\n",
        "#print(classification_report(Y_test,Y_pred))"
      ],
      "metadata": {
        "colab": {
          "base_uri": "https://localhost:8080/"
        },
        "id": "_ErzFp3nUDHl",
        "outputId": "22377280-aeed-4e61-e1ae-751d3a6115ee"
      },
      "execution_count": 19,
      "outputs": [
        {
          "output_type": "stream",
          "name": "stdout",
          "text": [
            "0.9666666666666667\n"
          ]
        }
      ]
    },
    {
      "cell_type": "markdown",
      "source": [
        "=======SVM======="
      ],
      "metadata": {
        "id": "x_8D424L6Pqd"
      }
    },
    {
      "cell_type": "code",
      "source": [
        "from sklearn import svm\n",
        "\n",
        "Support_Vector_Machine = svm.SVC( C=500, kernel='sigmoid', degree=3,gamma=0.1, coef0=0.0, shrinking=True, probability=False, tol=7,  max_iter=7) \n",
        "# gamma=0.01,\n",
        "\n",
        "Support_Vector_Machine.fit(X_train, Y_train)\n",
        "Y_pred=Support_Vector_Machine.predict(X_test)\n",
        "\n",
        "\n",
        "from sklearn.metrics import confusion_matrix, accuracy_score,classification_report\n",
        "#confusion matrix\n",
        "#print(confusion_matrix(Y_test,Y_pred))\n",
        "print(accuracy_score(Y_test,Y_pred))\n",
        "#print(classification_report(Y_test,Y_pred))"
      ],
      "metadata": {
        "colab": {
          "base_uri": "https://localhost:8080/"
        },
        "id": "7L9AS_RoCYXN",
        "outputId": "bd4e84fc-98b0-41f7-881a-2d02c99ce972"
      },
      "execution_count": 27,
      "outputs": [
        {
          "output_type": "stream",
          "name": "stdout",
          "text": [
            "0.2\n"
          ]
        }
      ]
    },
    {
      "cell_type": "markdown",
      "source": [
        "=============KNN=============="
      ],
      "metadata": {
        "id": "D7eRgUtk8-Yl"
      }
    },
    {
      "cell_type": "code",
      "source": [
        "from sklearn import neighbors\n",
        "\n",
        "KNN=neighbors.KNeighborsClassifier(n_neighbors=20, algorithm='auto', p=1)\n",
        "KNN.fit(X_train, Y_train)\n",
        "Y_pred=KNN.predict(X_test)\n",
        "\n",
        "\n",
        "from sklearn.metrics import confusion_matrix, accuracy_score,classification_report\n",
        "#confusion matrix\n",
        "#print(confusion_matrix(Y_test,Y_pred))\n",
        "print(accuracy_score(Y_test,Y_pred))\n",
        "#print(classification_report(Y_test,Y_pred))"
      ],
      "metadata": {
        "colab": {
          "base_uri": "https://localhost:8080/"
        },
        "id": "pxBzPUnq6RpW",
        "outputId": "bb329f10-efd7-4257-f2ae-8cae7e659662"
      },
      "execution_count": 33,
      "outputs": [
        {
          "output_type": "stream",
          "name": "stdout",
          "text": [
            "0.9666666666666667\n"
          ]
        }
      ]
    },
    {
      "cell_type": "markdown",
      "source": [
        "=============ANN=========="
      ],
      "metadata": {
        "id": "-bJDipjA_dqX"
      }
    },
    {
      "cell_type": "code",
      "source": [
        "!pip install tensorflow-gpu"
      ],
      "metadata": {
        "id": "WhGryElr9AuS"
      },
      "execution_count": null,
      "outputs": []
    },
    {
      "cell_type": "code",
      "source": [
        "import tensorflow as tf"
      ],
      "metadata": {
        "id": "mlXdSCho_g4W"
      },
      "execution_count": 35,
      "outputs": []
    },
    {
      "cell_type": "code",
      "source": [
        "## lets create the ANN\n",
        "from tensorflow.keras.models import Sequential\n",
        "from tensorflow.keras.layers import Dense\n",
        "from tensorflow.keras.layers import LeakyReLU,PReLU,ELU,ReLU\n",
        "from tensorflow.keras.layers import Dropout"
      ],
      "metadata": {
        "id": "iwkGmOwb_nf9"
      },
      "execution_count": 36,
      "outputs": []
    },
    {
      "cell_type": "code",
      "source": [
        "Neural_network = Sequential()\n",
        "Neural_network.add(Dense(units=67,activation = 'ReLU'))\n",
        "Neural_network.add(Dense(units=89, activation = 'ReLU'))\n",
        "#output layer\n",
        "Neural_network.add(Dense(units=1, activation = 'sigmoid'))\n",
        "Neural_network.compile(optimizer = 'adam', loss='binary_crossentropy', metrics=['accuracy'])"
      ],
      "metadata": {
        "id": "dzZAWgyrABQ1"
      },
      "execution_count": 51,
      "outputs": []
    },
    {
      "cell_type": "code",
      "source": [
        "import tensorflow\n",
        "opt=tensorflow.keras.optimizers.Adam(learning_rate=0.001)\n",
        "\n",
        "early_stopping = tf.keras.callbacks.EarlyStopping(\n",
        "    monitor=\"val_loss\",\n",
        "    min_delta=0.000,\n",
        "    patience=20,\n",
        "    verbose=1,\n",
        "    mode=\"auto\",\n",
        "    baseline=None,\n",
        "    restore_best_weights=False,\n",
        ")"
      ],
      "metadata": {
        "id": "HjEygWgTAk26"
      },
      "execution_count": 65,
      "outputs": []
    },
    {
      "cell_type": "code",
      "source": [
        "model_history=Neural_network.fit(X_train,Y_train,validation_split=0.4,batch_size=20,epochs=50, callbacks=early_stopping)"
      ],
      "metadata": {
        "colab": {
          "base_uri": "https://localhost:8080/"
        },
        "id": "puR9blwLB2Qe",
        "outputId": "46689cfa-a0ae-4b81-84fd-19cd925e44a9"
      },
      "execution_count": 68,
      "outputs": [
        {
          "output_type": "stream",
          "name": "stdout",
          "text": [
            "Epoch 1/50\n",
            "4/4 [==============================] - 0s 25ms/step - loss: -1046999.7500 - accuracy: 0.5694 - val_loss: -538087.6250 - val_accuracy: 0.7292\n",
            "Epoch 2/50\n",
            "4/4 [==============================] - 0s 17ms/step - loss: -1049521.8750 - accuracy: 0.5694 - val_loss: -539388.2500 - val_accuracy: 0.7292\n",
            "Epoch 3/50\n",
            "4/4 [==============================] - 0s 17ms/step - loss: -1052106.6250 - accuracy: 0.5694 - val_loss: -540699.0000 - val_accuracy: 0.7292\n",
            "Epoch 4/50\n",
            "4/4 [==============================] - 0s 11ms/step - loss: -1054498.3750 - accuracy: 0.5694 - val_loss: -542035.1875 - val_accuracy: 0.7292\n",
            "Epoch 5/50\n",
            "4/4 [==============================] - 0s 17ms/step - loss: -1057130.0000 - accuracy: 0.5694 - val_loss: -543348.3125 - val_accuracy: 0.7292\n",
            "Epoch 6/50\n",
            "4/4 [==============================] - 0s 12ms/step - loss: -1059671.5000 - accuracy: 0.5694 - val_loss: -544665.0000 - val_accuracy: 0.7292\n",
            "Epoch 7/50\n",
            "4/4 [==============================] - 0s 17ms/step - loss: -1062414.3750 - accuracy: 0.5694 - val_loss: -545935.6250 - val_accuracy: 0.7292\n",
            "Epoch 8/50\n",
            "4/4 [==============================] - 0s 16ms/step - loss: -1064886.2500 - accuracy: 0.5694 - val_loss: -547236.1875 - val_accuracy: 0.7292\n",
            "Epoch 9/50\n",
            "4/4 [==============================] - 0s 12ms/step - loss: -1067294.6250 - accuracy: 0.5694 - val_loss: -548568.6250 - val_accuracy: 0.7292\n",
            "Epoch 10/50\n",
            "4/4 [==============================] - 0s 17ms/step - loss: -1070004.8750 - accuracy: 0.5694 - val_loss: -549861.6875 - val_accuracy: 0.7292\n",
            "Epoch 11/50\n",
            "4/4 [==============================] - 0s 17ms/step - loss: -1072402.3750 - accuracy: 0.5694 - val_loss: -551176.8750 - val_accuracy: 0.7292\n",
            "Epoch 12/50\n",
            "4/4 [==============================] - 0s 19ms/step - loss: -1075085.1250 - accuracy: 0.5694 - val_loss: -552470.6250 - val_accuracy: 0.7292\n",
            "Epoch 13/50\n",
            "4/4 [==============================] - 0s 12ms/step - loss: -1077562.0000 - accuracy: 0.5694 - val_loss: -553805.0000 - val_accuracy: 0.7292\n",
            "Epoch 14/50\n",
            "4/4 [==============================] - 0s 20ms/step - loss: -1080037.2500 - accuracy: 0.5694 - val_loss: -555155.0000 - val_accuracy: 0.7292\n",
            "Epoch 15/50\n",
            "4/4 [==============================] - 0s 12ms/step - loss: -1082863.7500 - accuracy: 0.5694 - val_loss: -556445.1250 - val_accuracy: 0.7292\n",
            "Epoch 16/50\n",
            "4/4 [==============================] - 0s 19ms/step - loss: -1085349.7500 - accuracy: 0.5694 - val_loss: -557758.4375 - val_accuracy: 0.7292\n",
            "Epoch 17/50\n",
            "4/4 [==============================] - 0s 12ms/step - loss: -1087796.0000 - accuracy: 0.5694 - val_loss: -559097.0000 - val_accuracy: 0.7292\n",
            "Epoch 18/50\n",
            "4/4 [==============================] - 0s 13ms/step - loss: -1090407.6250 - accuracy: 0.5694 - val_loss: -560404.0625 - val_accuracy: 0.7292\n",
            "Epoch 19/50\n",
            "4/4 [==============================] - 0s 12ms/step - loss: -1092940.0000 - accuracy: 0.5694 - val_loss: -561710.3125 - val_accuracy: 0.7292\n",
            "Epoch 20/50\n",
            "4/4 [==============================] - 0s 12ms/step - loss: -1095516.2500 - accuracy: 0.5694 - val_loss: -563024.9375 - val_accuracy: 0.7292\n",
            "Epoch 21/50\n",
            "4/4 [==============================] - 0s 12ms/step - loss: -1098167.5000 - accuracy: 0.5694 - val_loss: -564322.0000 - val_accuracy: 0.7292\n",
            "Epoch 22/50\n",
            "4/4 [==============================] - 0s 12ms/step - loss: -1100658.5000 - accuracy: 0.5694 - val_loss: -565616.6875 - val_accuracy: 0.7292\n",
            "Epoch 23/50\n",
            "4/4 [==============================] - 0s 12ms/step - loss: -1103161.1250 - accuracy: 0.5694 - val_loss: -566910.7500 - val_accuracy: 0.7292\n",
            "Epoch 24/50\n",
            "4/4 [==============================] - 0s 12ms/step - loss: -1105823.3750 - accuracy: 0.5694 - val_loss: -568183.1875 - val_accuracy: 0.7292\n",
            "Epoch 25/50\n",
            "4/4 [==============================] - 0s 11ms/step - loss: -1108328.8750 - accuracy: 0.5694 - val_loss: -569494.1250 - val_accuracy: 0.7292\n",
            "Epoch 26/50\n",
            "4/4 [==============================] - 0s 12ms/step - loss: -1110735.2500 - accuracy: 0.5694 - val_loss: -570846.1875 - val_accuracy: 0.7292\n",
            "Epoch 27/50\n",
            "4/4 [==============================] - 0s 18ms/step - loss: -1113466.5000 - accuracy: 0.5694 - val_loss: -572160.7500 - val_accuracy: 0.7292\n",
            "Epoch 28/50\n",
            "4/4 [==============================] - 0s 12ms/step - loss: -1116123.5000 - accuracy: 0.5694 - val_loss: -573472.6250 - val_accuracy: 0.7292\n",
            "Epoch 29/50\n",
            "4/4 [==============================] - 0s 17ms/step - loss: -1118632.3750 - accuracy: 0.5694 - val_loss: -574822.5625 - val_accuracy: 0.7292\n",
            "Epoch 30/50\n",
            "4/4 [==============================] - 0s 14ms/step - loss: -1121235.0000 - accuracy: 0.5694 - val_loss: -576164.1250 - val_accuracy: 0.7292\n",
            "Epoch 31/50\n",
            "4/4 [==============================] - 0s 13ms/step - loss: -1123911.5000 - accuracy: 0.5694 - val_loss: -577496.3125 - val_accuracy: 0.7292\n",
            "Epoch 32/50\n",
            "4/4 [==============================] - 0s 12ms/step - loss: -1126563.6250 - accuracy: 0.5694 - val_loss: -578847.1250 - val_accuracy: 0.7292\n",
            "Epoch 33/50\n",
            "4/4 [==============================] - 0s 12ms/step - loss: -1129085.1250 - accuracy: 0.5694 - val_loss: -580234.1875 - val_accuracy: 0.7292\n",
            "Epoch 34/50\n",
            "4/4 [==============================] - 0s 15ms/step - loss: -1131769.0000 - accuracy: 0.5694 - val_loss: -581608.3125 - val_accuracy: 0.7292\n",
            "Epoch 35/50\n",
            "4/4 [==============================] - 0s 12ms/step - loss: -1134584.2500 - accuracy: 0.5694 - val_loss: -582964.0625 - val_accuracy: 0.7292\n",
            "Epoch 36/50\n",
            "4/4 [==============================] - 0s 12ms/step - loss: -1137172.2500 - accuracy: 0.5694 - val_loss: -584340.8750 - val_accuracy: 0.7292\n",
            "Epoch 37/50\n",
            "4/4 [==============================] - 0s 18ms/step - loss: -1139880.8750 - accuracy: 0.5694 - val_loss: -585694.0625 - val_accuracy: 0.7292\n",
            "Epoch 38/50\n",
            "4/4 [==============================] - 0s 18ms/step - loss: -1142481.1250 - accuracy: 0.5694 - val_loss: -587071.2500 - val_accuracy: 0.7292\n",
            "Epoch 39/50\n",
            "4/4 [==============================] - 0s 12ms/step - loss: -1145261.5000 - accuracy: 0.5694 - val_loss: -588436.3125 - val_accuracy: 0.7292\n",
            "Epoch 40/50\n",
            "4/4 [==============================] - 0s 12ms/step - loss: -1147675.7500 - accuracy: 0.5694 - val_loss: -589850.5625 - val_accuracy: 0.7292\n",
            "Epoch 41/50\n",
            "4/4 [==============================] - 0s 12ms/step - loss: -1150593.1250 - accuracy: 0.5694 - val_loss: -591209.0000 - val_accuracy: 0.7292\n",
            "Epoch 42/50\n",
            "4/4 [==============================] - 0s 17ms/step - loss: -1153245.7500 - accuracy: 0.5694 - val_loss: -592572.9375 - val_accuracy: 0.7292\n",
            "Epoch 43/50\n",
            "4/4 [==============================] - 0s 19ms/step - loss: -1155983.3750 - accuracy: 0.5694 - val_loss: -593928.5000 - val_accuracy: 0.7292\n",
            "Epoch 44/50\n",
            "4/4 [==============================] - 0s 18ms/step - loss: -1158657.3750 - accuracy: 0.5694 - val_loss: -595296.3125 - val_accuracy: 0.7292\n",
            "Epoch 45/50\n",
            "4/4 [==============================] - 0s 12ms/step - loss: -1161379.2500 - accuracy: 0.5694 - val_loss: -596684.5000 - val_accuracy: 0.7292\n",
            "Epoch 46/50\n",
            "4/4 [==============================] - 0s 12ms/step - loss: -1163964.6250 - accuracy: 0.5694 - val_loss: -598115.8125 - val_accuracy: 0.7292\n",
            "Epoch 47/50\n",
            "4/4 [==============================] - 0s 13ms/step - loss: -1166792.6250 - accuracy: 0.5694 - val_loss: -599539.7500 - val_accuracy: 0.7292\n",
            "Epoch 48/50\n",
            "4/4 [==============================] - 0s 19ms/step - loss: -1169647.8750 - accuracy: 0.5694 - val_loss: -600950.8125 - val_accuracy: 0.7292\n",
            "Epoch 49/50\n",
            "4/4 [==============================] - 0s 14ms/step - loss: -1172281.7500 - accuracy: 0.5694 - val_loss: -602386.7500 - val_accuracy: 0.7292\n",
            "Epoch 50/50\n",
            "4/4 [==============================] - 0s 18ms/step - loss: -1175166.6250 - accuracy: 0.5694 - val_loss: -603794.3125 - val_accuracy: 0.7292\n"
          ]
        }
      ]
    },
    {
      "cell_type": "code",
      "source": [
        "import numpy as np\n",
        "import matplotlib.pyplot as plt\n",
        "import pandas as pd\n",
        "# Predicting the Test set results\n",
        "y_pred = Neural_network.predict(X_test)"
      ],
      "metadata": {
        "colab": {
          "base_uri": "https://localhost:8080/"
        },
        "id": "YI4C107sDF6v",
        "outputId": "7c3d150c-cb99-4d77-d054-dacd8cde842c"
      },
      "execution_count": 71,
      "outputs": [
        {
          "output_type": "stream",
          "name": "stdout",
          "text": [
            "1/1 [==============================] - 0s 94ms/step\n"
          ]
        }
      ]
    },
    {
      "cell_type": "code",
      "source": [
        "# Calculate the Accuracy\n",
        "y_pred = (y_pred > 0.5)\n",
        "from sklearn.metrics import accuracy_score\n",
        "score=accuracy_score(y_pred,Y_test)\n",
        "score"
      ],
      "metadata": {
        "colab": {
          "base_uri": "https://localhost:8080/"
        },
        "id": "mtb_mf6qFxEI",
        "outputId": "d9285d40-6033-4c24-c55b-49ba6c2cf9ae"
      },
      "execution_count": 85,
      "outputs": [
        {
          "output_type": "execute_result",
          "data": {
            "text/plain": [
              "0.8"
            ]
          },
          "metadata": {},
          "execution_count": 85
        }
      ]
    },
    {
      "cell_type": "code",
      "source": [
        "print(\"Accuracy score for Neural network is  \",score)"
      ],
      "metadata": {
        "colab": {
          "base_uri": "https://localhost:8080/"
        },
        "id": "L4ixOV5IGFib",
        "outputId": "f8412d48-4ed0-4a11-e885-1a835d383eae"
      },
      "execution_count": 86,
      "outputs": [
        {
          "output_type": "stream",
          "name": "stdout",
          "text": [
            "Accuracy score for Neural network is   0.8\n"
          ]
        }
      ]
    },
    {
      "cell_type": "code",
      "source": [],
      "metadata": {
        "id": "SPc18EjjGxrZ"
      },
      "execution_count": null,
      "outputs": []
    }
  ]
}