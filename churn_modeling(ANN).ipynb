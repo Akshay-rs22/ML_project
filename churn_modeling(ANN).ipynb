{
  "nbformat": 4,
  "nbformat_minor": 0,
  "metadata": {
    "colab": {
      "name": "churn_modeling(ANN).ipynb",
      "provenance": [],
      "collapsed_sections": []
    },
    "kernelspec": {
      "name": "python3",
      "display_name": "Python 3"
    },
    "language_info": {
      "name": "python"
    }
  },
  "cells": [
    {
      "cell_type": "code",
      "execution_count": null,
      "metadata": {
        "id": "TEl4qImxm10c"
      },
      "outputs": [],
      "source": [
        "!pip install tensorflow-gpu"
      ]
    },
    {
      "cell_type": "code",
      "source": [
        "import tensorflow as tf"
      ],
      "metadata": {
        "id": "XpaG63v1uVN8"
      },
      "execution_count": 2,
      "outputs": []
    },
    {
      "cell_type": "code",
      "source": [
        "print(tf.__version__)"
      ],
      "metadata": {
        "colab": {
          "base_uri": "https://localhost:8080/"
        },
        "id": "b7rGHanhuXwO",
        "outputId": "5c479e34-ff6d-4369-cb86-1ec1e4701f04"
      },
      "execution_count": 3,
      "outputs": [
        {
          "output_type": "stream",
          "name": "stdout",
          "text": [
            "2.9.1\n"
          ]
        }
      ]
    },
    {
      "cell_type": "code",
      "source": [
        "# Importing the libraries\n",
        "import numpy as np\n",
        "import matplotlib.pyplot as plt\n",
        "import pandas as pd"
      ],
      "metadata": {
        "id": "d9NCFv3TuakQ"
      },
      "execution_count": 4,
      "outputs": []
    },
    {
      "cell_type": "code",
      "source": [
        "from google.colab import drive\n",
        "drive.mount('/content/drive')"
      ],
      "metadata": {
        "colab": {
          "base_uri": "https://localhost:8080/"
        },
        "id": "Zi3z2ZP5ud0r",
        "outputId": "ff8efd48-db1f-4bdc-cf48-9cd94a460b14"
      },
      "execution_count": 6,
      "outputs": [
        {
          "output_type": "stream",
          "name": "stdout",
          "text": [
            "Mounted at /content/drive\n"
          ]
        }
      ]
    },
    {
      "cell_type": "code",
      "source": [
        "import os \n",
        "os.chdir(\"/content/drive/MyDrive/AI/dataset/churn_modeling\")"
      ],
      "metadata": {
        "id": "f4D3-wfku4U-"
      },
      "execution_count": 7,
      "outputs": []
    },
    {
      "cell_type": "code",
      "source": [
        "!ls"
      ],
      "metadata": {
        "colab": {
          "base_uri": "https://localhost:8080/"
        },
        "id": "SiN30eRtwZEg",
        "outputId": "d40c1772-a2b7-4b5e-f8eb-f24f1bb5473e"
      },
      "execution_count": 8,
      "outputs": [
        {
          "output_type": "stream",
          "name": "stdout",
          "text": [
            "Churn_Modelling.csv\n"
          ]
        }
      ]
    },
    {
      "cell_type": "code",
      "source": [
        "# Importing the dataset\n",
        "dataset = pd.read_csv('Churn_Modelling.csv')\n",
        "X = dataset.iloc[:, 3:13]\n",
        "y = dataset.iloc[:, 13]"
      ],
      "metadata": {
        "id": "bipoZAimwdu2"
      },
      "execution_count": 9,
      "outputs": []
    },
    {
      "cell_type": "code",
      "source": [
        "X.head()"
      ],
      "metadata": {
        "colab": {
          "base_uri": "https://localhost:8080/",
          "height": 206
        },
        "id": "7sAWTxpVwiiC",
        "outputId": "08e14c8d-baca-4c04-9804-d4a9051453f1"
      },
      "execution_count": 11,
      "outputs": [
        {
          "output_type": "execute_result",
          "data": {
            "text/plain": [
              "   CreditScore Geography  Gender  Age  Tenure    Balance  NumOfProducts  \\\n",
              "0          619    France  Female   42       2       0.00              1   \n",
              "1          608     Spain  Female   41       1   83807.86              1   \n",
              "2          502    France  Female   42       8  159660.80              3   \n",
              "3          699    France  Female   39       1       0.00              2   \n",
              "4          850     Spain  Female   43       2  125510.82              1   \n",
              "\n",
              "   HasCrCard  IsActiveMember  EstimatedSalary  \n",
              "0          1               1        101348.88  \n",
              "1          0               1        112542.58  \n",
              "2          1               0        113931.57  \n",
              "3          0               0         93826.63  \n",
              "4          1               1         79084.10  "
            ],
            "text/html": [
              "\n",
              "  <div id=\"df-e38f6fd4-e24f-46bd-b6ef-481d7537aa0f\">\n",
              "    <div class=\"colab-df-container\">\n",
              "      <div>\n",
              "<style scoped>\n",
              "    .dataframe tbody tr th:only-of-type {\n",
              "        vertical-align: middle;\n",
              "    }\n",
              "\n",
              "    .dataframe tbody tr th {\n",
              "        vertical-align: top;\n",
              "    }\n",
              "\n",
              "    .dataframe thead th {\n",
              "        text-align: right;\n",
              "    }\n",
              "</style>\n",
              "<table border=\"1\" class=\"dataframe\">\n",
              "  <thead>\n",
              "    <tr style=\"text-align: right;\">\n",
              "      <th></th>\n",
              "      <th>CreditScore</th>\n",
              "      <th>Geography</th>\n",
              "      <th>Gender</th>\n",
              "      <th>Age</th>\n",
              "      <th>Tenure</th>\n",
              "      <th>Balance</th>\n",
              "      <th>NumOfProducts</th>\n",
              "      <th>HasCrCard</th>\n",
              "      <th>IsActiveMember</th>\n",
              "      <th>EstimatedSalary</th>\n",
              "    </tr>\n",
              "  </thead>\n",
              "  <tbody>\n",
              "    <tr>\n",
              "      <th>0</th>\n",
              "      <td>619</td>\n",
              "      <td>France</td>\n",
              "      <td>Female</td>\n",
              "      <td>42</td>\n",
              "      <td>2</td>\n",
              "      <td>0.00</td>\n",
              "      <td>1</td>\n",
              "      <td>1</td>\n",
              "      <td>1</td>\n",
              "      <td>101348.88</td>\n",
              "    </tr>\n",
              "    <tr>\n",
              "      <th>1</th>\n",
              "      <td>608</td>\n",
              "      <td>Spain</td>\n",
              "      <td>Female</td>\n",
              "      <td>41</td>\n",
              "      <td>1</td>\n",
              "      <td>83807.86</td>\n",
              "      <td>1</td>\n",
              "      <td>0</td>\n",
              "      <td>1</td>\n",
              "      <td>112542.58</td>\n",
              "    </tr>\n",
              "    <tr>\n",
              "      <th>2</th>\n",
              "      <td>502</td>\n",
              "      <td>France</td>\n",
              "      <td>Female</td>\n",
              "      <td>42</td>\n",
              "      <td>8</td>\n",
              "      <td>159660.80</td>\n",
              "      <td>3</td>\n",
              "      <td>1</td>\n",
              "      <td>0</td>\n",
              "      <td>113931.57</td>\n",
              "    </tr>\n",
              "    <tr>\n",
              "      <th>3</th>\n",
              "      <td>699</td>\n",
              "      <td>France</td>\n",
              "      <td>Female</td>\n",
              "      <td>39</td>\n",
              "      <td>1</td>\n",
              "      <td>0.00</td>\n",
              "      <td>2</td>\n",
              "      <td>0</td>\n",
              "      <td>0</td>\n",
              "      <td>93826.63</td>\n",
              "    </tr>\n",
              "    <tr>\n",
              "      <th>4</th>\n",
              "      <td>850</td>\n",
              "      <td>Spain</td>\n",
              "      <td>Female</td>\n",
              "      <td>43</td>\n",
              "      <td>2</td>\n",
              "      <td>125510.82</td>\n",
              "      <td>1</td>\n",
              "      <td>1</td>\n",
              "      <td>1</td>\n",
              "      <td>79084.10</td>\n",
              "    </tr>\n",
              "  </tbody>\n",
              "</table>\n",
              "</div>\n",
              "      <button class=\"colab-df-convert\" onclick=\"convertToInteractive('df-e38f6fd4-e24f-46bd-b6ef-481d7537aa0f')\"\n",
              "              title=\"Convert this dataframe to an interactive table.\"\n",
              "              style=\"display:none;\">\n",
              "        \n",
              "  <svg xmlns=\"http://www.w3.org/2000/svg\" height=\"24px\"viewBox=\"0 0 24 24\"\n",
              "       width=\"24px\">\n",
              "    <path d=\"M0 0h24v24H0V0z\" fill=\"none\"/>\n",
              "    <path d=\"M18.56 5.44l.94 2.06.94-2.06 2.06-.94-2.06-.94-.94-2.06-.94 2.06-2.06.94zm-11 1L8.5 8.5l.94-2.06 2.06-.94-2.06-.94L8.5 2.5l-.94 2.06-2.06.94zm10 10l.94 2.06.94-2.06 2.06-.94-2.06-.94-.94-2.06-.94 2.06-2.06.94z\"/><path d=\"M17.41 7.96l-1.37-1.37c-.4-.4-.92-.59-1.43-.59-.52 0-1.04.2-1.43.59L10.3 9.45l-7.72 7.72c-.78.78-.78 2.05 0 2.83L4 21.41c.39.39.9.59 1.41.59.51 0 1.02-.2 1.41-.59l7.78-7.78 2.81-2.81c.8-.78.8-2.07 0-2.86zM5.41 20L4 18.59l7.72-7.72 1.47 1.35L5.41 20z\"/>\n",
              "  </svg>\n",
              "      </button>\n",
              "      \n",
              "  <style>\n",
              "    .colab-df-container {\n",
              "      display:flex;\n",
              "      flex-wrap:wrap;\n",
              "      gap: 12px;\n",
              "    }\n",
              "\n",
              "    .colab-df-convert {\n",
              "      background-color: #E8F0FE;\n",
              "      border: none;\n",
              "      border-radius: 50%;\n",
              "      cursor: pointer;\n",
              "      display: none;\n",
              "      fill: #1967D2;\n",
              "      height: 32px;\n",
              "      padding: 0 0 0 0;\n",
              "      width: 32px;\n",
              "    }\n",
              "\n",
              "    .colab-df-convert:hover {\n",
              "      background-color: #E2EBFA;\n",
              "      box-shadow: 0px 1px 2px rgba(60, 64, 67, 0.3), 0px 1px 3px 1px rgba(60, 64, 67, 0.15);\n",
              "      fill: #174EA6;\n",
              "    }\n",
              "\n",
              "    [theme=dark] .colab-df-convert {\n",
              "      background-color: #3B4455;\n",
              "      fill: #D2E3FC;\n",
              "    }\n",
              "\n",
              "    [theme=dark] .colab-df-convert:hover {\n",
              "      background-color: #434B5C;\n",
              "      box-shadow: 0px 1px 3px 1px rgba(0, 0, 0, 0.15);\n",
              "      filter: drop-shadow(0px 1px 2px rgba(0, 0, 0, 0.3));\n",
              "      fill: #FFFFFF;\n",
              "    }\n",
              "  </style>\n",
              "\n",
              "      <script>\n",
              "        const buttonEl =\n",
              "          document.querySelector('#df-e38f6fd4-e24f-46bd-b6ef-481d7537aa0f button.colab-df-convert');\n",
              "        buttonEl.style.display =\n",
              "          google.colab.kernel.accessAllowed ? 'block' : 'none';\n",
              "\n",
              "        async function convertToInteractive(key) {\n",
              "          const element = document.querySelector('#df-e38f6fd4-e24f-46bd-b6ef-481d7537aa0f');\n",
              "          const dataTable =\n",
              "            await google.colab.kernel.invokeFunction('convertToInteractive',\n",
              "                                                     [key], {});\n",
              "          if (!dataTable) return;\n",
              "\n",
              "          const docLinkHtml = 'Like what you see? Visit the ' +\n",
              "            '<a target=\"_blank\" href=https://colab.research.google.com/notebooks/data_table.ipynb>data table notebook</a>'\n",
              "            + ' to learn more about interactive tables.';\n",
              "          element.innerHTML = '';\n",
              "          dataTable['output_type'] = 'display_data';\n",
              "          await google.colab.output.renderOutput(dataTable, element);\n",
              "          const docLink = document.createElement('div');\n",
              "          docLink.innerHTML = docLinkHtml;\n",
              "          element.appendChild(docLink);\n",
              "        }\n",
              "      </script>\n",
              "    </div>\n",
              "  </div>\n",
              "  "
            ]
          },
          "metadata": {},
          "execution_count": 11
        }
      ]
    },
    {
      "cell_type": "code",
      "source": [
        "#feature engineering\n",
        "geography = pd.get_dummies(X['Geography'], drop_first =True)"
      ],
      "metadata": {
        "id": "KzgLljjvxlqC"
      },
      "execution_count": 12,
      "outputs": []
    },
    {
      "cell_type": "code",
      "source": [
        "gender=pd.get_dummies(X['Gender'],drop_first=True)"
      ],
      "metadata": {
        "id": "nGH9MuVyy9K2"
      },
      "execution_count": 14,
      "outputs": []
    },
    {
      "cell_type": "code",
      "source": [
        "## Concatenate the Data Frames\n",
        "\n",
        "X=pd.concat([X,geography,gender],axis=1)\n",
        "\n",
        "## Drop Unnecessary columns\n",
        "X=X.drop(['Geography','Gender'],axis=1)"
      ],
      "metadata": {
        "id": "0upXEDNPyVho"
      },
      "execution_count": 15,
      "outputs": []
    },
    {
      "cell_type": "code",
      "source": [
        "# Splitting the dataset into the Training set and Test set\n",
        "from sklearn.model_selection import train_test_split\n",
        "X_train, X_test, y_train, y_test = train_test_split(X, y, test_size = 0.2, random_state = 0)"
      ],
      "metadata": {
        "id": "RbDj4dlzzcHh"
      },
      "execution_count": 43,
      "outputs": []
    },
    {
      "cell_type": "code",
      "source": [
        "#feature scaling\n",
        "from sklearn.preprocessing import StandardScaler\n",
        "sc = StandardScaler()\n",
        "X_train=sc.fit_transform(X_train)\n",
        "X_test = sc.transform(X_test)"
      ],
      "metadata": {
        "id": "pSZMZT_YzjEG"
      },
      "execution_count": 45,
      "outputs": []
    },
    {
      "cell_type": "code",
      "source": [
        "X_train.shape"
      ],
      "metadata": {
        "colab": {
          "base_uri": "https://localhost:8080/"
        },
        "id": "f3SADiaf2Eqb",
        "outputId": "30a15b1a-8ee3-46b3-96c7-be6cfe508741"
      },
      "execution_count": 46,
      "outputs": [
        {
          "output_type": "execute_result",
          "data": {
            "text/plain": [
              "(8000, 11)"
            ]
          },
          "metadata": {},
          "execution_count": 46
        }
      ]
    },
    {
      "cell_type": "code",
      "source": [
        "## lets create the ANN\n",
        "from tensorflow.keras.models import Sequential\n",
        "from tensorflow.keras.layers import Dense\n",
        "from tensorflow.keras.layers import LeakyReLU,PReLU,ELU,ReLU"
      ],
      "metadata": {
        "id": "lwajjwz44PhU"
      },
      "execution_count": 47,
      "outputs": []
    },
    {
      "cell_type": "code",
      "source": [
        "from tensorflow.keras.layers import Dropout"
      ],
      "metadata": {
        "id": "qV6XJcpX5hf4"
      },
      "execution_count": 48,
      "outputs": []
    },
    {
      "cell_type": "code",
      "source": [
        "#Initialize the ANN\n",
        "classifier = Sequential()"
      ],
      "metadata": {
        "id": "05XOkOua52cB"
      },
      "execution_count": 49,
      "outputs": []
    },
    {
      "cell_type": "code",
      "source": [
        "#adding input layer\n",
        "classifier.add(Dense(units=11,activation = 'ReLU'))"
      ],
      "metadata": {
        "id": "GEJEdp0T9LSr"
      },
      "execution_count": 50,
      "outputs": []
    },
    {
      "cell_type": "code",
      "source": [
        "classifier.add(Dense(units=7, activation = 'ReLU'))\n",
        "#classifier.add(Dropout(0.2))"
      ],
      "metadata": {
        "id": "SjZYKDBe9ekT"
      },
      "execution_count": 66,
      "outputs": []
    },
    {
      "cell_type": "code",
      "source": [
        "classifier.add(Dense(units=6, activation = 'ReLU'))"
      ],
      "metadata": {
        "id": "gJMIFk-E9tPT"
      },
      "execution_count": 52,
      "outputs": []
    },
    {
      "cell_type": "code",
      "source": [
        "#output layer\n",
        "classifier.add(Dense(units=1, activation = 'sigmoid'))"
      ],
      "metadata": {
        "id": "lyZfPzVu91st"
      },
      "execution_count": 53,
      "outputs": []
    },
    {
      "cell_type": "code",
      "source": [
        "classifier.compile(optimizer = 'adam', loss='binary_crossentropy', metrics=['accuracy'])"
      ],
      "metadata": {
        "id": "FWfMOo4u-Sg8"
      },
      "execution_count": 54,
      "outputs": []
    },
    {
      "cell_type": "code",
      "source": [
        "import tensorflow\n",
        "opt=tensorflow.keras.optimizers.Adam(learning_rate=0.01)"
      ],
      "metadata": {
        "id": "c0jkmE7L-oBb"
      },
      "execution_count": 55,
      "outputs": []
    },
    {
      "cell_type": "code",
      "source": [
        "#early stopping\n",
        "import tensorflow as tf\n",
        "early_stopping = tf.keras.callbacks.EarlyStopping(\n",
        "    monitor=\"val_loss\",\n",
        "    min_delta=0.0001,\n",
        "    patience=20,\n",
        "    verbose=1,\n",
        "    mode=\"auto\",\n",
        "    baseline=None,\n",
        "    restore_best_weights=False,\n",
        ")"
      ],
      "metadata": {
        "id": "ygrVI2sjApwp"
      },
      "execution_count": 56,
      "outputs": []
    },
    {
      "cell_type": "code",
      "source": [
        "model_history=classifier.fit(X_train,y_train,validation_split=0.33,batch_size=10,epochs=50) #callbacks=early_stopping)"
      ],
      "metadata": {
        "colab": {
          "base_uri": "https://localhost:8080/"
        },
        "id": "Z_hBWX-Z-0uz",
        "outputId": "2bb574ec-0705-4bed-cb1a-65c0433cb475"
      },
      "execution_count": 57,
      "outputs": [
        {
          "output_type": "stream",
          "name": "stdout",
          "text": [
            "Epoch 1/50\n",
            "536/536 [==============================] - 2s 3ms/step - loss: 0.4977 - accuracy: 0.7947 - val_loss: 0.4585 - val_accuracy: 0.7978\n",
            "Epoch 2/50\n",
            "536/536 [==============================] - 2s 3ms/step - loss: 0.4316 - accuracy: 0.8082 - val_loss: 0.4285 - val_accuracy: 0.8095\n",
            "Epoch 3/50\n",
            "536/536 [==============================] - 2s 3ms/step - loss: 0.4122 - accuracy: 0.8194 - val_loss: 0.4141 - val_accuracy: 0.8167\n",
            "Epoch 4/50\n",
            "536/536 [==============================] - 2s 3ms/step - loss: 0.3955 - accuracy: 0.8283 - val_loss: 0.4008 - val_accuracy: 0.8254\n",
            "Epoch 5/50\n",
            "536/536 [==============================] - 2s 3ms/step - loss: 0.3818 - accuracy: 0.8362 - val_loss: 0.3914 - val_accuracy: 0.8273\n",
            "Epoch 6/50\n",
            "536/536 [==============================] - 2s 4ms/step - loss: 0.3708 - accuracy: 0.8429 - val_loss: 0.3836 - val_accuracy: 0.8342\n",
            "Epoch 7/50\n",
            "536/536 [==============================] - 2s 3ms/step - loss: 0.3615 - accuracy: 0.8474 - val_loss: 0.3847 - val_accuracy: 0.8357\n",
            "Epoch 8/50\n",
            "536/536 [==============================] - 2s 3ms/step - loss: 0.3548 - accuracy: 0.8520 - val_loss: 0.3743 - val_accuracy: 0.8376\n",
            "Epoch 9/50\n",
            "536/536 [==============================] - 2s 4ms/step - loss: 0.3485 - accuracy: 0.8530 - val_loss: 0.3727 - val_accuracy: 0.8413\n",
            "Epoch 10/50\n",
            "536/536 [==============================] - 2s 4ms/step - loss: 0.3461 - accuracy: 0.8550 - val_loss: 0.3683 - val_accuracy: 0.8455\n",
            "Epoch 11/50\n",
            "536/536 [==============================] - 2s 4ms/step - loss: 0.3421 - accuracy: 0.8574 - val_loss: 0.3668 - val_accuracy: 0.8451\n",
            "Epoch 12/50\n",
            "536/536 [==============================] - 2s 4ms/step - loss: 0.3396 - accuracy: 0.8582 - val_loss: 0.3637 - val_accuracy: 0.8493\n",
            "Epoch 13/50\n",
            "536/536 [==============================] - 2s 3ms/step - loss: 0.3371 - accuracy: 0.8578 - val_loss: 0.3641 - val_accuracy: 0.8482\n",
            "Epoch 14/50\n",
            "536/536 [==============================] - 2s 4ms/step - loss: 0.3352 - accuracy: 0.8614 - val_loss: 0.3628 - val_accuracy: 0.8531\n",
            "Epoch 15/50\n",
            "536/536 [==============================] - 2s 4ms/step - loss: 0.3334 - accuracy: 0.8617 - val_loss: 0.3612 - val_accuracy: 0.8523\n",
            "Epoch 16/50\n",
            "536/536 [==============================] - 2s 3ms/step - loss: 0.3320 - accuracy: 0.8614 - val_loss: 0.3601 - val_accuracy: 0.8523\n",
            "Epoch 17/50\n",
            "536/536 [==============================] - 2s 3ms/step - loss: 0.3314 - accuracy: 0.8630 - val_loss: 0.3599 - val_accuracy: 0.8546\n",
            "Epoch 18/50\n",
            "536/536 [==============================] - 2s 4ms/step - loss: 0.3295 - accuracy: 0.8630 - val_loss: 0.3601 - val_accuracy: 0.8508\n",
            "Epoch 19/50\n",
            "536/536 [==============================] - 2s 3ms/step - loss: 0.3292 - accuracy: 0.8647 - val_loss: 0.3601 - val_accuracy: 0.8542\n",
            "Epoch 20/50\n",
            "536/536 [==============================] - 2s 3ms/step - loss: 0.3274 - accuracy: 0.8627 - val_loss: 0.3619 - val_accuracy: 0.8538\n",
            "Epoch 21/50\n",
            "536/536 [==============================] - 2s 3ms/step - loss: 0.3286 - accuracy: 0.8645 - val_loss: 0.3599 - val_accuracy: 0.8512\n",
            "Epoch 22/50\n",
            "536/536 [==============================] - 2s 3ms/step - loss: 0.3266 - accuracy: 0.8651 - val_loss: 0.3598 - val_accuracy: 0.8557\n",
            "Epoch 23/50\n",
            "536/536 [==============================] - 2s 3ms/step - loss: 0.3261 - accuracy: 0.8655 - val_loss: 0.3591 - val_accuracy: 0.8554\n",
            "Epoch 24/50\n",
            "536/536 [==============================] - 2s 3ms/step - loss: 0.3254 - accuracy: 0.8658 - val_loss: 0.3599 - val_accuracy: 0.8557\n",
            "Epoch 25/50\n",
            "536/536 [==============================] - 2s 3ms/step - loss: 0.3249 - accuracy: 0.8645 - val_loss: 0.3609 - val_accuracy: 0.8565\n",
            "Epoch 26/50\n",
            "536/536 [==============================] - 2s 3ms/step - loss: 0.3243 - accuracy: 0.8640 - val_loss: 0.3591 - val_accuracy: 0.8584\n",
            "Epoch 27/50\n",
            "536/536 [==============================] - 2s 4ms/step - loss: 0.3231 - accuracy: 0.8666 - val_loss: 0.3586 - val_accuracy: 0.8538\n",
            "Epoch 28/50\n",
            "536/536 [==============================] - 2s 3ms/step - loss: 0.3228 - accuracy: 0.8651 - val_loss: 0.3597 - val_accuracy: 0.8569\n",
            "Epoch 29/50\n",
            "536/536 [==============================] - 2s 3ms/step - loss: 0.3224 - accuracy: 0.8653 - val_loss: 0.3624 - val_accuracy: 0.8550\n",
            "Epoch 30/50\n",
            "536/536 [==============================] - 2s 3ms/step - loss: 0.3223 - accuracy: 0.8651 - val_loss: 0.3585 - val_accuracy: 0.8588\n",
            "Epoch 31/50\n",
            "536/536 [==============================] - 2s 4ms/step - loss: 0.3216 - accuracy: 0.8660 - val_loss: 0.3585 - val_accuracy: 0.8565\n",
            "Epoch 32/50\n",
            "536/536 [==============================] - 2s 3ms/step - loss: 0.3208 - accuracy: 0.8660 - val_loss: 0.3642 - val_accuracy: 0.8542\n",
            "Epoch 33/50\n",
            "536/536 [==============================] - 2s 3ms/step - loss: 0.3199 - accuracy: 0.8679 - val_loss: 0.3602 - val_accuracy: 0.8580\n",
            "Epoch 34/50\n",
            "536/536 [==============================] - 2s 4ms/step - loss: 0.3195 - accuracy: 0.8671 - val_loss: 0.3599 - val_accuracy: 0.8599\n",
            "Epoch 35/50\n",
            "536/536 [==============================] - 2s 4ms/step - loss: 0.3196 - accuracy: 0.8673 - val_loss: 0.3590 - val_accuracy: 0.8603\n",
            "Epoch 36/50\n",
            "536/536 [==============================] - 2s 3ms/step - loss: 0.3189 - accuracy: 0.8677 - val_loss: 0.3578 - val_accuracy: 0.8588\n",
            "Epoch 37/50\n",
            "536/536 [==============================] - 2s 3ms/step - loss: 0.3190 - accuracy: 0.8675 - val_loss: 0.3638 - val_accuracy: 0.8508\n",
            "Epoch 38/50\n",
            "536/536 [==============================] - 2s 3ms/step - loss: 0.3185 - accuracy: 0.8681 - val_loss: 0.3614 - val_accuracy: 0.8527\n",
            "Epoch 39/50\n",
            "536/536 [==============================] - 2s 3ms/step - loss: 0.3178 - accuracy: 0.8684 - val_loss: 0.3620 - val_accuracy: 0.8573\n",
            "Epoch 40/50\n",
            "536/536 [==============================] - 2s 3ms/step - loss: 0.3182 - accuracy: 0.8677 - val_loss: 0.3618 - val_accuracy: 0.8573\n",
            "Epoch 41/50\n",
            "536/536 [==============================] - 2s 3ms/step - loss: 0.3170 - accuracy: 0.8681 - val_loss: 0.3632 - val_accuracy: 0.8557\n",
            "Epoch 42/50\n",
            "536/536 [==============================] - 2s 4ms/step - loss: 0.3182 - accuracy: 0.8690 - val_loss: 0.3647 - val_accuracy: 0.8554\n",
            "Epoch 43/50\n",
            "536/536 [==============================] - 2s 3ms/step - loss: 0.3175 - accuracy: 0.8686 - val_loss: 0.3610 - val_accuracy: 0.8599\n",
            "Epoch 44/50\n",
            "536/536 [==============================] - 2s 4ms/step - loss: 0.3174 - accuracy: 0.8690 - val_loss: 0.3637 - val_accuracy: 0.8573\n",
            "Epoch 45/50\n",
            "536/536 [==============================] - 2s 3ms/step - loss: 0.3179 - accuracy: 0.8666 - val_loss: 0.3612 - val_accuracy: 0.8576\n",
            "Epoch 46/50\n",
            "536/536 [==============================] - 2s 4ms/step - loss: 0.3167 - accuracy: 0.8696 - val_loss: 0.3609 - val_accuracy: 0.8580\n",
            "Epoch 47/50\n",
            "536/536 [==============================] - 2s 3ms/step - loss: 0.3170 - accuracy: 0.8684 - val_loss: 0.3604 - val_accuracy: 0.8588\n",
            "Epoch 48/50\n",
            "536/536 [==============================] - 2s 3ms/step - loss: 0.3169 - accuracy: 0.8677 - val_loss: 0.3588 - val_accuracy: 0.8603\n",
            "Epoch 49/50\n",
            "536/536 [==============================] - 2s 3ms/step - loss: 0.3157 - accuracy: 0.8656 - val_loss: 0.3637 - val_accuracy: 0.8576\n",
            "Epoch 50/50\n",
            "536/536 [==============================] - 2s 3ms/step - loss: 0.3161 - accuracy: 0.8698 - val_loss: 0.3659 - val_accuracy: 0.8546\n"
          ]
        }
      ]
    },
    {
      "cell_type": "code",
      "source": [
        "# list all data in history\n",
        "\n",
        "print(model_history.history.keys())"
      ],
      "metadata": {
        "colab": {
          "base_uri": "https://localhost:8080/"
        },
        "id": "lumbgvc7_Nuw",
        "outputId": "dbca2588-3f8f-41dd-e388-efbcd7b92598"
      },
      "execution_count": 58,
      "outputs": [
        {
          "output_type": "stream",
          "name": "stdout",
          "text": [
            "dict_keys(['loss', 'accuracy', 'val_loss', 'val_accuracy'])\n"
          ]
        }
      ]
    },
    {
      "cell_type": "code",
      "source": [
        "\n",
        "# summarize history for accuracy\n",
        "plt.plot(model_history.history['accuracy'])\n",
        "plt.plot(model_history.history['val_accuracy'])\n",
        "plt.title('model accuracy')\n",
        "plt.ylabel('accuracy')\n",
        "plt.xlabel('epoch')\n",
        "plt.legend(['train', 'test'], loc='upper left')\n",
        "plt.show()"
      ],
      "metadata": {
        "colab": {
          "base_uri": "https://localhost:8080/",
          "height": 295
        },
        "id": "oovS-G01BNc5",
        "outputId": "7aba995a-0da2-4ec8-d39e-5ef3bb66fa45"
      },
      "execution_count": 59,
      "outputs": [
        {
          "output_type": "display_data",
          "data": {
            "text/plain": [
              "<Figure size 432x288 with 1 Axes>"
            ],
            "image/png": "[encoded data removed]"
          },
          "metadata": {
            "needs_background": "light"
          }
        }
      ]
    },
    {
      "cell_type": "code",
      "source": [
        "# summarize history for loss\n",
        "plt.plot(model_history.history['loss'])\n",
        "plt.plot(model_history.history['val_loss'])\n",
        "plt.title('model loss')\n",
        "plt.ylabel('loss')\n",
        "plt.xlabel('epoch')\n",
        "plt.legend(['train', 'test'], loc='upper left')\n",
        "plt.show()"
      ],
      "metadata": {
        "colab": {
          "base_uri": "https://localhost:8080/",
          "height": 295
        },
        "id": "czd3rPELC3He",
        "outputId": "530aadd7-0361-43fc-f218-6cbd237d752a"
      },
      "execution_count": 60,
      "outputs": [
        {
          "output_type": "display_data",
          "data": {
            "text/plain": [
              "<Figure size 432x288 with 1 Axes>"
            ],
            "image/png": "[encoded data removed]"
          },
          "metadata": {
            "needs_background": "light"
          }
        }
      ]
    },
    {
      "cell_type": "code",
      "source": [
        "# Part 3 - Making the predictions and evaluating the model\n",
        "\n",
        "# Predicting the Test set results\n",
        "y_pred = classifier.predict(X_test)\n",
        "y_pred = (y_pred > 0.5)"
      ],
      "metadata": {
        "colab": {
          "base_uri": "https://localhost:8080/"
        },
        "id": "MRJJGV8mC9_d",
        "outputId": "077fbcc6-a4ff-4214-cdf9-e68d92c06b7b"
      },
      "execution_count": 61,
      "outputs": [
        {
          "output_type": "stream",
          "name": "stdout",
          "text": [
            "63/63 [==============================] - 0s 1ms/step\n"
          ]
        }
      ]
    },
    {
      "cell_type": "code",
      "source": [
        "# Making the Confusion Matrix\n",
        "from sklearn.metrics import confusion_matrix\n",
        "cm = confusion_matrix(y_test, y_pred)\n",
        "cm"
      ],
      "metadata": {
        "colab": {
          "base_uri": "https://localhost:8080/"
        },
        "id": "7WQJo_EmD8mP",
        "outputId": "ed55b5c6-8bd3-4a61-d98a-fd7b09074ee2"
      },
      "execution_count": 62,
      "outputs": [
        {
          "output_type": "execute_result",
          "data": {
            "text/plain": [
              "array([[1511,   84],\n",
              "       [ 194,  211]])"
            ]
          },
          "metadata": {},
          "execution_count": 62
        }
      ]
    },
    {
      "cell_type": "code",
      "source": [
        "# Calculate the Accuracy\n",
        "from sklearn.metrics import accuracy_score\n",
        "score=accuracy_score(y_pred,y_test)"
      ],
      "metadata": {
        "id": "YokshC-3D_41"
      },
      "execution_count": 63,
      "outputs": []
    },
    {
      "cell_type": "code",
      "source": [
        "score"
      ],
      "metadata": {
        "colab": {
          "base_uri": "https://localhost:8080/"
        },
        "id": "M22K_-6xEHXa",
        "outputId": "c931fba8-e1e5-413d-fed6-659cd8c26688"
      },
      "execution_count": 64,
      "outputs": [
        {
          "output_type": "execute_result",
          "data": {
            "text/plain": [
              "0.861"
            ]
          },
          "metadata": {},
          "execution_count": 64
        }
      ]
    },
    {
      "cell_type": "code",
      "source": [
        "##get weights\n",
        "classifier.get_weights()"
      ],
      "metadata": {
        "colab": {
          "base_uri": "https://localhost:8080/"
        },
        "id": "4hPxNZDKEK-q",
        "outputId": "4aad514a-f368-4df7-da54-00b5fa87ada2"
      },
      "execution_count": 65,
      "outputs": [
        {
          "output_type": "execute_result",
          "data": {
            "text/plain": [
              "[array([[-0.48057246, -0.17404427, -0.00354161, -0.10628258, -0.01407825,\n",
              "          0.17174931, -0.17833635,  0.353387  , -0.18418188, -0.09746253,\n",
              "         -0.24403776],\n",
              "        [-0.38450533,  1.0311867 ,  0.66451526, -0.46171662, -0.7786376 ,\n",
              "         -0.22218272, -0.4233148 , -0.9021513 ,  0.12216944, -0.02204944,\n",
              "          0.8842015 ],\n",
              "        [ 0.22898059, -0.18491338, -0.06369604, -0.40308747,  0.31890196,\n",
              "          0.06736831,  0.21939826,  0.18723126, -0.41515812,  0.0173399 ,\n",
              "         -0.17449139],\n",
              "        [ 0.14781083, -0.16316429,  0.32241789, -0.21686028, -0.18595934,\n",
              "         -0.9234183 ,  1.0708705 ,  0.42134172,  0.16688779, -0.14262903,\n",
              "          0.08090277],\n",
              "        [-0.10662005, -0.220815  ,  1.2238162 ,  0.41637075,  1.5691962 ,\n",
              "          0.5637089 ,  0.11159586, -0.34562325, -0.23296846,  0.64013225,\n",
              "         -0.39350846],\n",
              "        [-0.2301636 , -0.0372877 ,  0.09606244,  0.2199273 , -0.06425484,\n",
              "         -0.03064917, -0.09665795,  0.12460601, -0.13231497, -0.17821094,\n",
              "         -0.0935969 ],\n",
              "        [ 0.54865384, -0.29113552,  0.6622392 , -0.20455721,  0.09689313,\n",
              "          0.5995391 , -0.36675793,  0.3624348 , -0.13913769, -0.5594777 ,\n",
              "          0.33268237],\n",
              "        [-0.3466159 ,  0.23855576, -0.01861501,  0.24120866, -0.04246979,\n",
              "          0.10007995,  0.18506001,  0.12543687,  0.19409953, -0.40584576,\n",
              "          0.10733643],\n",
              "        [-0.03879274,  0.49131796, -0.31837195,  0.23190376,  0.09058402,\n",
              "          0.36741337,  0.03484192, -0.4279431 , -0.29340014, -0.34199682,\n",
              "         -0.12945782],\n",
              "        [ 0.3450547 ,  0.01779602,  0.15364158, -0.16532613, -0.06665263,\n",
              "          0.13487451,  0.22327398,  0.00761113, -0.41424584, -0.437683  ,\n",
              "         -0.30925384],\n",
              "        [ 0.16227461, -0.23605016,  0.0597995 , -0.26404044,  0.16857104,\n",
              "          0.23015821, -0.23597512,  0.35786435,  0.06970384,  0.14100134,\n",
              "          0.2039836 ]], dtype=float32),\n",
              " array([ 0.18548442,  0.03580596, -0.2687038 ,  0.62434876, -0.48061356,\n",
              "         0.13269937, -0.14883299,  0.30536792,  0.29048428,  0.06838414,\n",
              "        -0.44467074], dtype=float32),\n",
              " array([[ 0.02827959,  0.35359725,  0.01970397,  0.23389837, -0.93675953,\n",
              "          0.15562324, -0.74090016],\n",
              "        [ 0.14181799, -0.2289213 , -0.72286594,  0.17525119,  0.5036664 ,\n",
              "          0.5597516 ,  0.4496269 ],\n",
              "        [ 0.72786486, -0.26146778, -0.24002208,  0.9467651 ,  0.6487483 ,\n",
              "         -0.01064664,  0.14445788],\n",
              "        [-0.02604192,  0.18720707, -0.81490064,  0.60440034, -0.53614503,\n",
              "          0.19511953,  0.21678473],\n",
              "        [-0.19271493,  0.1860101 ,  0.27963597,  0.55256724,  1.207449  ,\n",
              "          0.8826104 ,  0.5403867 ],\n",
              "        [-0.5986074 , -0.16355033,  0.2398483 ,  0.74302167, -0.59128755,\n",
              "         -0.2139836 ,  1.20578   ],\n",
              "        [-0.9479514 , -0.06041077, -0.22454123,  0.12440275, -0.3947097 ,\n",
              "         -0.2872325 ,  0.10118368],\n",
              "        [ 0.55872965,  0.1993385 ,  0.18726748,  0.06319446, -0.84537065,\n",
              "         -0.24235815, -0.22193731],\n",
              "        [-0.26282868,  0.55332196, -0.14540713, -0.4080858 ,  0.36406404,\n",
              "          0.18191887, -0.28869814],\n",
              "        [-0.78372544,  0.2872598 ,  0.4905957 ,  0.40301198, -0.10736417,\n",
              "         -0.0344657 ,  0.00750088],\n",
              "        [ 0.45583978, -0.66452044, -0.21167156, -0.17527758, -0.77013135,\n",
              "          0.24609953, -0.32530156]], dtype=float32),\n",
              " array([-0.22013834,  0.3814499 ,  0.23160216, -0.08388581, -0.11330698,\n",
              "         0.11537325, -0.13260809], dtype=float32),\n",
              " array([[ 0.32342857, -1.1787091 ,  0.15190645,  0.21214023,  0.641936  ,\n",
              "          0.5350685 ],\n",
              "        [-0.41380376, -0.36726862, -0.03178051,  0.05956196,  0.85323364,\n",
              "          0.63725626],\n",
              "        [-0.8451972 , -1.1207541 , -0.13742045,  0.2614371 , -0.23735365,\n",
              "          0.99124765],\n",
              "        [-0.19363263, -0.26988876,  0.7357378 , -0.31163454, -0.65526354,\n",
              "          0.10613389],\n",
              "        [-0.87531006,  1.4523684 , -1.3158698 ,  0.56789654,  0.46201426,\n",
              "         -0.59432155],\n",
              "        [-0.32414982,  0.7082329 , -0.12190157, -0.7948117 , -0.07338133,\n",
              "          0.14883372],\n",
              "        [-0.60926086,  0.01933247,  0.89884603, -0.32588252, -0.79587823,\n",
              "          0.30701092]], dtype=float32),\n",
              " array([ 0.15523915,  0.25800714,  0.0759927 , -0.01465262,  0.11193781,\n",
              "        -0.13744119], dtype=float32),\n",
              " array([[ 0.34058127],\n",
              "        [ 1.2673919 ],\n",
              "        [-0.46897486],\n",
              "        [-0.7759958 ],\n",
              "        [-0.95697904],\n",
              "        [-1.1096287 ]], dtype=float32),\n",
              " array([0.10666058], dtype=float32)]"
            ]
          },
          "metadata": {},
          "execution_count": 65
        }
      ]
    },
    {
      "cell_type": "code",
      "source": [
        ""
      ],
      "metadata": {
        "id": "_cEj9Y6LEhM2"
      },
      "execution_count": null,
      "outputs": []
    }
  ]
}