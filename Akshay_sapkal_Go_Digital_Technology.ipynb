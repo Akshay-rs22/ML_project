{
  "nbformat": 4,
  "nbformat_minor": 0,
  "metadata": {
    "colab": {
      "provenance": [],
      "collapsed_sections": []
    },
    "kernelspec": {
      "name": "python3",
      "display_name": "Python 3"
    },
    "language_info": {
      "name": "python"
    }
  },
  "cells": [
    {
      "cell_type": "code",
      "execution_count": 1,
      "metadata": {
        "id": "GzE-Sic9gq-o"
      },
      "outputs": [],
      "source": [
        "import pandas as pd"
      ]
    },
    {
      "cell_type": "code",
      "source": [
        "Employee_data = pd.read_csv(\"/content/employee_data.csv\")\n",
        "Insurance_data = pd.read_csv(\"/content/insurance_data.csv\")\n",
        "Vendor_data = pd.read_csv(\"/content/vendor_data.csv\")"
      ],
      "metadata": {
        "id": "pkT_kxuTg-L5"
      },
      "execution_count": 2,
      "outputs": []
    },
    {
      "cell_type": "code",
      "source": [
        "Employee_data.info()"
      ],
      "metadata": {
        "colab": {
          "base_uri": "https://localhost:8080/"
        },
        "id": "S3V0oiLbkO2D",
        "outputId": "c172b372-9833-48c7-df57-95c0ff7d0a69"
      },
      "execution_count": 3,
      "outputs": [
        {
          "output_type": "stream",
          "name": "stdout",
          "text": [
            "<class 'pandas.core.frame.DataFrame'>\n",
            "RangeIndex: 1200 entries, 0 to 1199\n",
            "Data columns (total 10 columns):\n",
            " #   Column              Non-Null Count  Dtype \n",
            "---  ------              --------------  ----- \n",
            " 0   AGENT_ID            1200 non-null   object\n",
            " 1   AGENT_NAME          1200 non-null   object\n",
            " 2   DATE_OF_JOINING     1200 non-null   object\n",
            " 3   ADDRESS_LINE1       1200 non-null   object\n",
            " 4   ADDRESS_LINE2       179 non-null    object\n",
            " 5   CITY                1193 non-null   object\n",
            " 6   STATE               1200 non-null   object\n",
            " 7   POSTAL_CODE         1200 non-null   int64 \n",
            " 8   EMP_ROUTING_NUMBER  1200 non-null   int64 \n",
            " 9   EMP_ACCT_NUMBER     1200 non-null   object\n",
            "dtypes: int64(2), object(8)\n",
            "memory usage: 93.9+ KB\n"
          ]
        }
      ]
    },
    {
      "cell_type": "code",
      "source": [
        "Insurance_data.info()"
      ],
      "metadata": {
        "colab": {
          "base_uri": "https://localhost:8080/"
        },
        "id": "gCP5WY-IkcO-",
        "outputId": "2c8a78f3-2553-4d26-d15c-1546fcefeb39"
      },
      "execution_count": 4,
      "outputs": [
        {
          "output_type": "stream",
          "name": "stdout",
          "text": [
            "<class 'pandas.core.frame.DataFrame'>\n",
            "RangeIndex: 3568 entries, 0 to 3567\n",
            "Data columns (total 38 columns):\n",
            " #   Column                    Non-Null Count  Dtype  \n",
            "---  ------                    --------------  -----  \n",
            " 0   TXN_DATE_TIME             3568 non-null   object \n",
            " 1   TRANSACTION_ID            3568 non-null   object \n",
            " 2   CUSTOMER_ID               3568 non-null   object \n",
            " 3   POLICY_NUMBER             3568 non-null   object \n",
            " 4   POLICY_EFF_DT             3567 non-null   object \n",
            " 5   LOSS_DT                   3567 non-null   object \n",
            " 6   REPORT_DT                 3567 non-null   object \n",
            " 7   INSURANCE_TYPE            3567 non-null   object \n",
            " 8   PREMIUM_AMOUNT            3567 non-null   float64\n",
            " 9   CLAIM_AMOUNT              3567 non-null   float64\n",
            " 10  CUSTOMER_NAME             3567 non-null   object \n",
            " 11  ADDRESS_LINE1             3567 non-null   object \n",
            " 12  ADDRESS_LINE2             552 non-null    object \n",
            " 13  CITY                      3554 non-null   object \n",
            " 14  STATE                     3567 non-null   object \n",
            " 15  POSTAL_CODE               3567 non-null   float64\n",
            " 16  SSN                       3567 non-null   object \n",
            " 17  MARITAL_STATUS            3567 non-null   object \n",
            " 18  AGE                       3567 non-null   float64\n",
            " 19  TENURE                    3567 non-null   float64\n",
            " 20  EMPLOYMENT_STATUS         3567 non-null   object \n",
            " 21  NO_OF_FAMILY_MEMBERS      3567 non-null   float64\n",
            " 22  RISK_SEGMENTATION         3567 non-null   object \n",
            " 23  HOUSE_TYPE                3567 non-null   object \n",
            " 24  SOCIAL_CLASS              3567 non-null   object \n",
            " 25  ROUTING_NUMBER            3567 non-null   float64\n",
            " 26  ACCT_NUMBER               3567 non-null   object \n",
            " 27  CUSTOMER_EDUCATION_LEVEL  3355 non-null   object \n",
            " 28  CLAIM_STATUS              3567 non-null   object \n",
            " 29  INCIDENT_SEVERITY         3567 non-null   object \n",
            " 30  AUTHORITY_CONTACTED       3567 non-null   object \n",
            " 31  ANY_INJURY                3567 non-null   float64\n",
            " 32  POLICE_REPORT_AVAILABLE   3567 non-null   float64\n",
            " 33  INCIDENT_STATE            3567 non-null   object \n",
            " 34  INCIDENT_CITY             3548 non-null   object \n",
            " 35  INCIDENT_HOUR_OF_THE_DAY  3567 non-null   float64\n",
            " 36  AGENT_ID                  3567 non-null   object \n",
            " 37  VENDOR_ID                 2403 non-null   object \n",
            "dtypes: float64(10), object(28)\n",
            "memory usage: 1.0+ MB\n"
          ]
        }
      ]
    },
    {
      "cell_type": "code",
      "source": [
        "Vendor_data.info()"
      ],
      "metadata": {
        "colab": {
          "base_uri": "https://localhost:8080/"
        },
        "id": "obVyl1FIkdeU",
        "outputId": "938fea8e-757e-4126-994a-a5041c17af64"
      },
      "execution_count": 5,
      "outputs": [
        {
          "output_type": "stream",
          "name": "stdout",
          "text": [
            "<class 'pandas.core.frame.DataFrame'>\n",
            "RangeIndex: 600 entries, 0 to 599\n",
            "Data columns (total 7 columns):\n",
            " #   Column         Non-Null Count  Dtype \n",
            "---  ------         --------------  ----- \n",
            " 0   VENDOR_ID      600 non-null    object\n",
            " 1   VENDOR_NAME    600 non-null    object\n",
            " 2   ADDRESS_LINE1  600 non-null    object\n",
            " 3   ADDRESS_LINE2  97 non-null     object\n",
            " 4   CITY           594 non-null    object\n",
            " 5   STATE          600 non-null    object\n",
            " 6   POSTAL_CODE    600 non-null    int64 \n",
            "dtypes: int64(1), object(6)\n",
            "memory usage: 32.9+ KB\n"
          ]
        }
      ]
    },
    {
      "cell_type": "code",
      "source": [
        "#for simplicity\n",
        "Employee_data.rename(columns = {'STATE':'AGENT_STATE'}, inplace = True)\n",
        "Insurance_data.rename(columns = {'STATE':'CUSTOMER_STATE'}, inplace = True)"
      ],
      "metadata": {
        "id": "ULA3lQd3_SwC"
      },
      "execution_count": 6,
      "outputs": []
    },
    {
      "cell_type": "code",
      "source": [],
      "metadata": {
        "id": "PdJaZuX7B3J1"
      },
      "execution_count": 6,
      "outputs": []
    },
    {
      "cell_type": "markdown",
      "source": [
        "Task # 1\n",
        "Merge the 3 dataset and create 1 view of data.\n",
        "You can merge insurance_data.csv and employee_data.csv on\n",
        "AGENT_ID You can merge insurance_data.csv and vendor_data.csv on\n",
        "VENDOR_ID Note: Use left Outer join as not all claims require Vendor"
      ],
      "metadata": {
        "id": "KVMWAU3Mhpvt"
      }
    },
    {
      "cell_type": "code",
      "source": [
        "\n",
        "final_df = pd.merge(pd.merge(Insurance_data, Employee_data,on='AGENT_ID',  how='left'), Vendor_data,on='VENDOR_ID',  how='left')"
      ],
      "metadata": {
        "id": "8ghstIogh-AN"
      },
      "execution_count": 16,
      "outputs": []
    },
    {
      "cell_type": "code",
      "source": [
        "final_df.head()"
      ],
      "metadata": {
        "colab": {
          "base_uri": "https://localhost:8080/",
          "height": 421
        },
        "id": "01Psw-gDojhi",
        "outputId": "2d9e3c21-3800-47f4-ddd3-ba2372c650c3"
      },
      "execution_count": 17,
      "outputs": [
        {
          "output_type": "execute_result",
          "data": {
            "text/plain": [
              "         TXN_DATE_TIME TRANSACTION_ID CUSTOMER_ID POLICY_NUMBER POLICY_EFF_DT  \\\n",
              "0  2020-06-01 00:00:00    TXN00000001   A00003822   PLC00008468    2015-06-23   \n",
              "1  2020-06-01 00:00:00    TXN00000002   A00008149   PLC00009594    2018-04-21   \n",
              "2  2020-06-01 00:00:00    TXN00000003   A00003172   PLC00007969    2019-10-03   \n",
              "3  2020-06-01 00:00:00    TXN00000004   A00007572   PLC00009292    2016-11-29   \n",
              "4  2020-06-01 00:00:00    TXN00000005   A00008173   PLC00000204    2011-12-26   \n",
              "\n",
              "      LOSS_DT   REPORT_DT INSURANCE_TYPE  PREMIUM_AMOUNT  CLAIM_AMOUNT  ...  \\\n",
              "0  2020-05-16  2020-05-21         Health          157.13        9000.0  ...   \n",
              "1  2020-05-13  2020-05-18       Property          141.71       26000.0  ...   \n",
              "2  2020-05-21  2020-05-26       Property          157.24       13000.0  ...   \n",
              "3  2020-05-14  2020-05-19         Health          172.87       16000.0  ...   \n",
              "4  2020-05-17  2020-05-22         Travel           88.53        3000.0  ...   \n",
              "\n",
              "  AGENT_STATE POSTAL_CODE_y EMP_ROUTING_NUMBER     EMP_ACCT_NUMBER  \\\n",
              "0          TN       37217.0         35441155.0  LRZO53254369804934   \n",
              "1          AZ       85301.0         44055451.0  XBYG14382904542874   \n",
              "2          AL       36105.0         55770246.0  WRXH14597428306333   \n",
              "3          OK       73071.0         87652976.0  YEPN16077902472499   \n",
              "4          MD       21061.0         76119019.0  HZBK86544578578547   \n",
              "\n",
              "                        VENDOR_NAME              ADDRESS_LINE1 ADDRESS_LINE2  \\\n",
              "0                        Ramsey Inc       3114 West 20th Court           NaN   \n",
              "1  Morales, Campbell and Washington      42 West Louise Street             B   \n",
              "2                       Johnson Ltd    2619 North Quality Lane          #315   \n",
              "3                  Blackwell-Foster          3609 Meadow Drive           NaN   \n",
              "4                       Evans-Scott  4001 19th Place Northeast           NaN   \n",
              "\n",
              "           CITY  STATE  POSTAL_CODE  \n",
              "0   Panama City     FL      32405.0  \n",
              "1  Fayetteville     AR      72701.0  \n",
              "2  Fayetteville     AR      72703.0  \n",
              "3     Nashville     TN      37215.0  \n",
              "4    Washington     DC      20018.0  \n",
              "\n",
              "[5 rows x 53 columns]"
            ],
            "text/html": [
              "\n",
              "  <div id=\"df-928f4235-ffae-4056-a6c2-375d5bdaaa81\">\n",
              "    <div class=\"colab-df-container\">\n",
              "      <div>\n",
              "<style scoped>\n",
              "    .dataframe tbody tr th:only-of-type {\n",
              "        vertical-align: middle;\n",
              "    }\n",
              "\n",
              "    .dataframe tbody tr th {\n",
              "        vertical-align: top;\n",
              "    }\n",
              "\n",
              "    .dataframe thead th {\n",
              "        text-align: right;\n",
              "    }\n",
              "</style>\n",
              "<table border=\"1\" class=\"dataframe\">\n",
              "  <thead>\n",
              "    <tr style=\"text-align: right;\">\n",
              "      <th></th>\n",
              "      <th>TXN_DATE_TIME</th>\n",
              "      <th>TRANSACTION_ID</th>\n",
              "      <th>CUSTOMER_ID</th>\n",
              "      <th>POLICY_NUMBER</th>\n",
              "      <th>POLICY_EFF_DT</th>\n",
              "      <th>LOSS_DT</th>\n",
              "      <th>REPORT_DT</th>\n",
              "      <th>INSURANCE_TYPE</th>\n",
              "      <th>PREMIUM_AMOUNT</th>\n",
              "      <th>CLAIM_AMOUNT</th>\n",
              "      <th>...</th>\n",
              "      <th>AGENT_STATE</th>\n",
              "      <th>POSTAL_CODE_y</th>\n",
              "      <th>EMP_ROUTING_NUMBER</th>\n",
              "      <th>EMP_ACCT_NUMBER</th>\n",
              "      <th>VENDOR_NAME</th>\n",
              "      <th>ADDRESS_LINE1</th>\n",
              "      <th>ADDRESS_LINE2</th>\n",
              "      <th>CITY</th>\n",
              "      <th>STATE</th>\n",
              "      <th>POSTAL_CODE</th>\n",
              "    </tr>\n",
              "  </thead>\n",
              "  <tbody>\n",
              "    <tr>\n",
              "      <th>0</th>\n",
              "      <td>2020-06-01 00:00:00</td>\n",
              "      <td>TXN00000001</td>\n",
              "      <td>A00003822</td>\n",
              "      <td>PLC00008468</td>\n",
              "      <td>2015-06-23</td>\n",
              "      <td>2020-05-16</td>\n",
              "      <td>2020-05-21</td>\n",
              "      <td>Health</td>\n",
              "      <td>157.13</td>\n",
              "      <td>9000.0</td>\n",
              "      <td>...</td>\n",
              "      <td>TN</td>\n",
              "      <td>37217.0</td>\n",
              "      <td>35441155.0</td>\n",
              "      <td>LRZO53254369804934</td>\n",
              "      <td>Ramsey Inc</td>\n",
              "      <td>3114 West 20th Court</td>\n",
              "      <td>NaN</td>\n",
              "      <td>Panama City</td>\n",
              "      <td>FL</td>\n",
              "      <td>32405.0</td>\n",
              "    </tr>\n",
              "    <tr>\n",
              "      <th>1</th>\n",
              "      <td>2020-06-01 00:00:00</td>\n",
              "      <td>TXN00000002</td>\n",
              "      <td>A00008149</td>\n",
              "      <td>PLC00009594</td>\n",
              "      <td>2018-04-21</td>\n",
              "      <td>2020-05-13</td>\n",
              "      <td>2020-05-18</td>\n",
              "      <td>Property</td>\n",
              "      <td>141.71</td>\n",
              "      <td>26000.0</td>\n",
              "      <td>...</td>\n",
              "      <td>AZ</td>\n",
              "      <td>85301.0</td>\n",
              "      <td>44055451.0</td>\n",
              "      <td>XBYG14382904542874</td>\n",
              "      <td>Morales, Campbell and Washington</td>\n",
              "      <td>42 West Louise Street</td>\n",
              "      <td>B</td>\n",
              "      <td>Fayetteville</td>\n",
              "      <td>AR</td>\n",
              "      <td>72701.0</td>\n",
              "    </tr>\n",
              "    <tr>\n",
              "      <th>2</th>\n",
              "      <td>2020-06-01 00:00:00</td>\n",
              "      <td>TXN00000003</td>\n",
              "      <td>A00003172</td>\n",
              "      <td>PLC00007969</td>\n",
              "      <td>2019-10-03</td>\n",
              "      <td>2020-05-21</td>\n",
              "      <td>2020-05-26</td>\n",
              "      <td>Property</td>\n",
              "      <td>157.24</td>\n",
              "      <td>13000.0</td>\n",
              "      <td>...</td>\n",
              "      <td>AL</td>\n",
              "      <td>36105.0</td>\n",
              "      <td>55770246.0</td>\n",
              "      <td>WRXH14597428306333</td>\n",
              "      <td>Johnson Ltd</td>\n",
              "      <td>2619 North Quality Lane</td>\n",
              "      <td>#315</td>\n",
              "      <td>Fayetteville</td>\n",
              "      <td>AR</td>\n",
              "      <td>72703.0</td>\n",
              "    </tr>\n",
              "    <tr>\n",
              "      <th>3</th>\n",
              "      <td>2020-06-01 00:00:00</td>\n",
              "      <td>TXN00000004</td>\n",
              "      <td>A00007572</td>\n",
              "      <td>PLC00009292</td>\n",
              "      <td>2016-11-29</td>\n",
              "      <td>2020-05-14</td>\n",
              "      <td>2020-05-19</td>\n",
              "      <td>Health</td>\n",
              "      <td>172.87</td>\n",
              "      <td>16000.0</td>\n",
              "      <td>...</td>\n",
              "      <td>OK</td>\n",
              "      <td>73071.0</td>\n",
              "      <td>87652976.0</td>\n",
              "      <td>YEPN16077902472499</td>\n",
              "      <td>Blackwell-Foster</td>\n",
              "      <td>3609 Meadow Drive</td>\n",
              "      <td>NaN</td>\n",
              "      <td>Nashville</td>\n",
              "      <td>TN</td>\n",
              "      <td>37215.0</td>\n",
              "    </tr>\n",
              "    <tr>\n",
              "      <th>4</th>\n",
              "      <td>2020-06-01 00:00:00</td>\n",
              "      <td>TXN00000005</td>\n",
              "      <td>A00008173</td>\n",
              "      <td>PLC00000204</td>\n",
              "      <td>2011-12-26</td>\n",
              "      <td>2020-05-17</td>\n",
              "      <td>2020-05-22</td>\n",
              "      <td>Travel</td>\n",
              "      <td>88.53</td>\n",
              "      <td>3000.0</td>\n",
              "      <td>...</td>\n",
              "      <td>MD</td>\n",
              "      <td>21061.0</td>\n",
              "      <td>76119019.0</td>\n",
              "      <td>HZBK86544578578547</td>\n",
              "      <td>Evans-Scott</td>\n",
              "      <td>4001 19th Place Northeast</td>\n",
              "      <td>NaN</td>\n",
              "      <td>Washington</td>\n",
              "      <td>DC</td>\n",
              "      <td>20018.0</td>\n",
              "    </tr>\n",
              "  </tbody>\n",
              "</table>\n",
              "<p>5 rows × 53 columns</p>\n",
              "</div>\n",
              "      <button class=\"colab-df-convert\" onclick=\"convertToInteractive('df-928f4235-ffae-4056-a6c2-375d5bdaaa81')\"\n",
              "              title=\"Convert this dataframe to an interactive table.\"\n",
              "              style=\"display:none;\">\n",
              "        \n",
              "  <svg xmlns=\"http://www.w3.org/2000/svg\" height=\"24px\"viewBox=\"0 0 24 24\"\n",
              "       width=\"24px\">\n",
              "    <path d=\"M0 0h24v24H0V0z\" fill=\"none\"/>\n",
              "    <path d=\"M18.56 5.44l.94 2.06.94-2.06 2.06-.94-2.06-.94-.94-2.06-.94 2.06-2.06.94zm-11 1L8.5 8.5l.94-2.06 2.06-.94-2.06-.94L8.5 2.5l-.94 2.06-2.06.94zm10 10l.94 2.06.94-2.06 2.06-.94-2.06-.94-.94-2.06-.94 2.06-2.06.94z\"/><path d=\"M17.41 7.96l-1.37-1.37c-.4-.4-.92-.59-1.43-.59-.52 0-1.04.2-1.43.59L10.3 9.45l-7.72 7.72c-.78.78-.78 2.05 0 2.83L4 21.41c.39.39.9.59 1.41.59.51 0 1.02-.2 1.41-.59l7.78-7.78 2.81-2.81c.8-.78.8-2.07 0-2.86zM5.41 20L4 18.59l7.72-7.72 1.47 1.35L5.41 20z\"/>\n",
              "  </svg>\n",
              "      </button>\n",
              "      \n",
              "  <style>\n",
              "    .colab-df-container {\n",
              "      display:flex;\n",
              "      flex-wrap:wrap;\n",
              "      gap: 12px;\n",
              "    }\n",
              "\n",
              "    .colab-df-convert {\n",
              "      background-color: #E8F0FE;\n",
              "      border: none;\n",
              "      border-radius: 50%;\n",
              "      cursor: pointer;\n",
              "      display: none;\n",
              "      fill: #1967D2;\n",
              "      height: 32px;\n",
              "      padding: 0 0 0 0;\n",
              "      width: 32px;\n",
              "    }\n",
              "\n",
              "    .colab-df-convert:hover {\n",
              "      background-color: #E2EBFA;\n",
              "      box-shadow: 0px 1px 2px rgba(60, 64, 67, 0.3), 0px 1px 3px 1px rgba(60, 64, 67, 0.15);\n",
              "      fill: #174EA6;\n",
              "    }\n",
              "\n",
              "    [theme=dark] .colab-df-convert {\n",
              "      background-color: #3B4455;\n",
              "      fill: #D2E3FC;\n",
              "    }\n",
              "\n",
              "    [theme=dark] .colab-df-convert:hover {\n",
              "      background-color: #434B5C;\n",
              "      box-shadow: 0px 1px 3px 1px rgba(0, 0, 0, 0.15);\n",
              "      filter: drop-shadow(0px 1px 2px rgba(0, 0, 0, 0.3));\n",
              "      fill: #FFFFFF;\n",
              "    }\n",
              "  </style>\n",
              "\n",
              "      <script>\n",
              "        const buttonEl =\n",
              "          document.querySelector('#df-928f4235-ffae-4056-a6c2-375d5bdaaa81 button.colab-df-convert');\n",
              "        buttonEl.style.display =\n",
              "          google.colab.kernel.accessAllowed ? 'block' : 'none';\n",
              "\n",
              "        async function convertToInteractive(key) {\n",
              "          const element = document.querySelector('#df-928f4235-ffae-4056-a6c2-375d5bdaaa81');\n",
              "          const dataTable =\n",
              "            await google.colab.kernel.invokeFunction('convertToInteractive',\n",
              "                                                     [key], {});\n",
              "          if (!dataTable) return;\n",
              "\n",
              "          const docLinkHtml = 'Like what you see? Visit the ' +\n",
              "            '<a target=\"_blank\" href=https://colab.research.google.com/notebooks/data_table.ipynb>data table notebook</a>'\n",
              "            + ' to learn more about interactive tables.';\n",
              "          element.innerHTML = '';\n",
              "          dataTable['output_type'] = 'display_data';\n",
              "          await google.colab.output.renderOutput(dataTable, element);\n",
              "          const docLink = document.createElement('div');\n",
              "          docLink.innerHTML = docLinkHtml;\n",
              "          element.appendChild(docLink);\n",
              "        }\n",
              "      </script>\n",
              "    </div>\n",
              "  </div>\n",
              "  "
            ]
          },
          "metadata": {},
          "execution_count": 17
        }
      ]
    },
    {
      "cell_type": "code",
      "source": [
        "final_df.info()"
      ],
      "metadata": {
        "colab": {
          "base_uri": "https://localhost:8080/"
        },
        "id": "EDxk13okBh2u",
        "outputId": "c35abb4f-eb4b-439e-f271-2b566e663725"
      },
      "execution_count": 18,
      "outputs": [
        {
          "output_type": "stream",
          "name": "stdout",
          "text": [
            "<class 'pandas.core.frame.DataFrame'>\n",
            "Int64Index: 3568 entries, 0 to 3567\n",
            "Data columns (total 53 columns):\n",
            " #   Column                    Non-Null Count  Dtype  \n",
            "---  ------                    --------------  -----  \n",
            " 0   TXN_DATE_TIME             3568 non-null   object \n",
            " 1   TRANSACTION_ID            3568 non-null   object \n",
            " 2   CUSTOMER_ID               3568 non-null   object \n",
            " 3   POLICY_NUMBER             3568 non-null   object \n",
            " 4   POLICY_EFF_DT             3567 non-null   object \n",
            " 5   LOSS_DT                   3567 non-null   object \n",
            " 6   REPORT_DT                 3567 non-null   object \n",
            " 7   INSURANCE_TYPE            3567 non-null   object \n",
            " 8   PREMIUM_AMOUNT            3567 non-null   float64\n",
            " 9   CLAIM_AMOUNT              3567 non-null   float64\n",
            " 10  CUSTOMER_NAME             3567 non-null   object \n",
            " 11  ADDRESS_LINE1_x           3567 non-null   object \n",
            " 12  ADDRESS_LINE2_x           552 non-null    object \n",
            " 13  CITY_x                    3554 non-null   object \n",
            " 14  CUSTOMER_STATE            3567 non-null   object \n",
            " 15  POSTAL_CODE_x             3567 non-null   float64\n",
            " 16  SSN                       3567 non-null   object \n",
            " 17  MARITAL_STATUS            3567 non-null   object \n",
            " 18  AGE                       3567 non-null   float64\n",
            " 19  TENURE                    3567 non-null   float64\n",
            " 20  EMPLOYMENT_STATUS         3567 non-null   object \n",
            " 21  NO_OF_FAMILY_MEMBERS      3567 non-null   float64\n",
            " 22  RISK_SEGMENTATION         3567 non-null   object \n",
            " 23  HOUSE_TYPE                3567 non-null   object \n",
            " 24  SOCIAL_CLASS              3567 non-null   object \n",
            " 25  ROUTING_NUMBER            3567 non-null   float64\n",
            " 26  ACCT_NUMBER               3567 non-null   object \n",
            " 27  CUSTOMER_EDUCATION_LEVEL  3355 non-null   object \n",
            " 28  CLAIM_STATUS              3567 non-null   object \n",
            " 29  INCIDENT_SEVERITY         3567 non-null   object \n",
            " 30  AUTHORITY_CONTACTED       3567 non-null   object \n",
            " 31  ANY_INJURY                3567 non-null   float64\n",
            " 32  POLICE_REPORT_AVAILABLE   3567 non-null   float64\n",
            " 33  INCIDENT_STATE            3567 non-null   object \n",
            " 34  INCIDENT_CITY             3548 non-null   object \n",
            " 35  INCIDENT_HOUR_OF_THE_DAY  3567 non-null   float64\n",
            " 36  AGENT_ID                  3567 non-null   object \n",
            " 37  VENDOR_ID                 2403 non-null   object \n",
            " 38  AGENT_NAME                3567 non-null   object \n",
            " 39  DATE_OF_JOINING           3567 non-null   object \n",
            " 40  ADDRESS_LINE1_y           3567 non-null   object \n",
            " 41  ADDRESS_LINE2_y           507 non-null    object \n",
            " 42  CITY_y                    3546 non-null   object \n",
            " 43  AGENT_STATE               3567 non-null   object \n",
            " 44  POSTAL_CODE_y             3567 non-null   float64\n",
            " 45  EMP_ROUTING_NUMBER        3567 non-null   float64\n",
            " 46  EMP_ACCT_NUMBER           3567 non-null   object \n",
            " 47  VENDOR_NAME               2403 non-null   object \n",
            " 48  ADDRESS_LINE1             2403 non-null   object \n",
            " 49  ADDRESS_LINE2             421 non-null    object \n",
            " 50  CITY                      2391 non-null   object \n",
            " 51  STATE                     2403 non-null   object \n",
            " 52  POSTAL_CODE               2403 non-null   float64\n",
            "dtypes: float64(13), object(40)\n",
            "memory usage: 1.5+ MB\n"
          ]
        }
      ]
    },
    {
      "cell_type": "markdown",
      "source": [
        "Task #2\n",
        "Business Leader wants to find Top 3 Insurance Type where we are getting\n",
        "most insurance claims?\n"
      ],
      "metadata": {
        "id": "-bM2ramVpLPO"
      }
    },
    {
      "cell_type": "code",
      "source": [
        "TASK2 = Insurance_data.groupby('INSURANCE_TYPE')['CLAIM_AMOUNT'].sum()\n",
        "print(\"Top 3 Insurance Type where we are getting most insurance claims\")\n",
        "TASK2.sort_values(ascending = False)[:3]\n"
      ],
      "metadata": {
        "colab": {
          "base_uri": "https://localhost:8080/"
        },
        "id": "HnYZX3Viol7V",
        "outputId": "e22e580b-f2d4-45de-e09b-9a496935320c"
      },
      "execution_count": 9,
      "outputs": [
        {
          "output_type": "stream",
          "name": "stdout",
          "text": [
            "Top 3 Insurance Type where we are getting most insurance claims\n"
          ]
        },
        {
          "output_type": "execute_result",
          "data": {
            "text/plain": [
              "INSURANCE_TYPE\n",
              "Life        33195000.0\n",
              "Property    15056000.0\n",
              "Health       6140000.0\n",
              "Name: CLAIM_AMOUNT, dtype: float64"
            ]
          },
          "metadata": {},
          "execution_count": 9
        }
      ]
    },
    {
      "cell_type": "code",
      "source": [
        "print(\"Most number of Insurance type is taken\")\n",
        "Insurance_data['INSURANCE_TYPE'].value_counts()"
      ],
      "metadata": {
        "colab": {
          "base_uri": "https://localhost:8080/"
        },
        "id": "HHB0U2xNr_Bt",
        "outputId": "72a9ac3e-d07f-407d-cbbe-2fb8e6c92b09"
      },
      "execution_count": 10,
      "outputs": [
        {
          "output_type": "stream",
          "name": "stdout",
          "text": [
            "Most number of Insurance type is taken\n"
          ]
        },
        {
          "output_type": "execute_result",
          "data": {
            "text/plain": [
              "Property    610\n",
              "Mobile      610\n",
              "Life        606\n",
              "Travel      596\n",
              "Health      580\n",
              "Motor       565\n",
              "Name: INSURANCE_TYPE, dtype: int64"
            ]
          },
          "metadata": {},
          "execution_count": 10
        }
      ]
    },
    {
      "cell_type": "code",
      "source": [],
      "metadata": {
        "id": "M6Y9_TIy-UMe"
      },
      "execution_count": 10,
      "outputs": []
    },
    {
      "cell_type": "markdown",
      "source": [
        "Task #3\n",
        "Business Leader wants to find Top 5 States where we are getting most insurance claims\n",
        "for customer belonging to HIGH(H) risk segment?"
      ],
      "metadata": {
        "id": "s5iCSzY_8ZpY"
      }
    },
    {
      "cell_type": "code",
      "source": [
        "df4=Insurance_data[Insurance_data['RISK_SEGMENTATION']=='H']"
      ],
      "metadata": {
        "id": "etNmjghEZVa1"
      },
      "execution_count": 11,
      "outputs": []
    },
    {
      "cell_type": "code",
      "source": [
        "df4['CUSTOMER_STATE'].value_counts().head(5)"
      ],
      "metadata": {
        "colab": {
          "base_uri": "https://localhost:8080/"
        },
        "id": "rjflafQsT1hV",
        "outputId": "64cd345e-6256-491b-9725-b6a769186085"
      },
      "execution_count": 12,
      "outputs": [
        {
          "output_type": "execute_result",
          "data": {
            "text/plain": [
              "CA    53\n",
              "AZ    49\n",
              "AR    38\n",
              "CT    36\n",
              "GA    35\n",
              "Name: CUSTOMER_STATE, dtype: int64"
            ]
          },
          "metadata": {},
          "execution_count": 12
        }
      ]
    },
    {
      "cell_type": "code",
      "source": [],
      "metadata": {
        "id": "1XGSqXG7-V1L"
      },
      "execution_count": 12,
      "outputs": []
    },
    {
      "cell_type": "markdown",
      "source": [
        "Task #4\n",
        "Business wants to create a new variable “COLOCATION” which will have following values IF\n",
        "Customer State == Incident State == Agent Address State THEN 1 ELSE 0\n",
        "Find the mean of this new column"
      ],
      "metadata": {
        "id": "KqaUtgv_-0Fy"
      }
    },
    {
      "cell_type": "code",
      "source": [
        "COLOCATION=[]\n",
        "for i in range (0,3568):\n",
        "  if final_df['CUSTOMER_STATE'][i] == final_df['INCIDENT_STATE'][i] == final_df['AGENT_STATE'][i]:\n",
        "    COLOCATION.append(1)\n",
        "  else:\n",
        "    COLOCATION.append(0)\n",
        "final_df['COLOCATION'] = COLOCATION\n",
        "print(\"the mean of this new column\",final_df['COLOCATION'].mean())"
      ],
      "metadata": {
        "colab": {
          "base_uri": "https://localhost:8080/"
        },
        "id": "tQUkB7RWAOtL",
        "outputId": "856bfdd3-cbe5-4f02-d6e7-2638aaf6f718"
      },
      "execution_count": 19,
      "outputs": [
        {
          "output_type": "stream",
          "name": "stdout",
          "text": [
            "the mean of this new column 0.003923766816143498\n"
          ]
        }
      ]
    },
    {
      "cell_type": "code",
      "source": [
        "final_df1 = final_df\n"
      ],
      "metadata": {
        "id": "VBZ2cyhfI3S0"
      },
      "execution_count": 20,
      "outputs": []
    },
    {
      "cell_type": "markdown",
      "source": [
        "Task #5 Data entry error was detected in the data and you are required to correct it. If for any\n",
        "claim transaction “AUTHORITY_CONTACTED” is NOT “Police” and POLICE_AVAILABLE == 1\n",
        "Then Update “AUTHORITY_CONTACTED” to Police."
      ],
      "metadata": {
        "id": "Eq1yA9VFHANL"
      }
    },
    {
      "cell_type": "code",
      "source": [
        "for i in range (0,3568):\n",
        "  if final_df['POLICE_REPORT_AVAILABLE'][i] == 1:\n",
        "    final_df['AUTHORITY_CONTACTED'][i]= 'police'\n"
      ],
      "metadata": {
        "colab": {
          "base_uri": "https://localhost:8080/"
        },
        "id": "x7Ex-8Z5JK3m",
        "outputId": "282b1a6c-f463-4fbd-9de9-05634acf0198"
      },
      "execution_count": 22,
      "outputs": [
        {
          "output_type": "stream",
          "name": "stderr",
          "text": [
            "/usr/local/lib/python3.7/dist-packages/ipykernel_launcher.py:3: SettingWithCopyWarning: \n",
            "A value is trying to be set on a copy of a slice from a DataFrame\n",
            "\n",
            "See the caveats in the documentation: https://pandas.pydata.org/pandas-docs/stable/user_guide/indexing.html#returning-a-view-versus-a-copy\n",
            "  This is separate from the ipykernel package so we can avoid doing imports until\n"
          ]
        }
      ]
    },
    {
      "cell_type": "code",
      "source": [
        "final_df.head()"
      ],
      "metadata": {
        "id": "yKJCOg3JHFYF",
        "colab": {
          "base_uri": "https://localhost:8080/",
          "height": 421
        },
        "outputId": "dff8c5bb-9453-41a4-8f1b-4795efa4cedd"
      },
      "execution_count": 23,
      "outputs": [
        {
          "output_type": "execute_result",
          "data": {
            "text/plain": [
              "         TXN_DATE_TIME TRANSACTION_ID CUSTOMER_ID POLICY_NUMBER POLICY_EFF_DT  \\\n",
              "0  2020-06-01 00:00:00    TXN00000001   A00003822   PLC00008468    2015-06-23   \n",
              "1  2020-06-01 00:00:00    TXN00000002   A00008149   PLC00009594    2018-04-21   \n",
              "2  2020-06-01 00:00:00    TXN00000003   A00003172   PLC00007969    2019-10-03   \n",
              "3  2020-06-01 00:00:00    TXN00000004   A00007572   PLC00009292    2016-11-29   \n",
              "4  2020-06-01 00:00:00    TXN00000005   A00008173   PLC00000204    2011-12-26   \n",
              "\n",
              "      LOSS_DT   REPORT_DT INSURANCE_TYPE  PREMIUM_AMOUNT  CLAIM_AMOUNT  ...  \\\n",
              "0  2020-05-16  2020-05-21         Health          157.13        9000.0  ...   \n",
              "1  2020-05-13  2020-05-18       Property          141.71       26000.0  ...   \n",
              "2  2020-05-21  2020-05-26       Property          157.24       13000.0  ...   \n",
              "3  2020-05-14  2020-05-19         Health          172.87       16000.0  ...   \n",
              "4  2020-05-17  2020-05-22         Travel           88.53        3000.0  ...   \n",
              "\n",
              "  POSTAL_CODE_y EMP_ROUTING_NUMBER     EMP_ACCT_NUMBER  \\\n",
              "0       37217.0         35441155.0  LRZO53254369804934   \n",
              "1       85301.0         44055451.0  XBYG14382904542874   \n",
              "2       36105.0         55770246.0  WRXH14597428306333   \n",
              "3       73071.0         87652976.0  YEPN16077902472499   \n",
              "4       21061.0         76119019.0  HZBK86544578578547   \n",
              "\n",
              "                        VENDOR_NAME              ADDRESS_LINE1  ADDRESS_LINE2  \\\n",
              "0                        Ramsey Inc       3114 West 20th Court            NaN   \n",
              "1  Morales, Campbell and Washington      42 West Louise Street              B   \n",
              "2                       Johnson Ltd    2619 North Quality Lane           #315   \n",
              "3                  Blackwell-Foster          3609 Meadow Drive            NaN   \n",
              "4                       Evans-Scott  4001 19th Place Northeast            NaN   \n",
              "\n",
              "           CITY STATE  POSTAL_CODE  COLOCATION  \n",
              "0   Panama City    FL      32405.0           0  \n",
              "1  Fayetteville    AR      72701.0           0  \n",
              "2  Fayetteville    AR      72703.0           0  \n",
              "3     Nashville    TN      37215.0           0  \n",
              "4    Washington    DC      20018.0           0  \n",
              "\n",
              "[5 rows x 54 columns]"
            ],
            "text/html": [
              "\n",
              "  <div id=\"df-01d354dd-1bec-4eba-b2b8-fa1d873a9734\">\n",
              "    <div class=\"colab-df-container\">\n",
              "      <div>\n",
              "<style scoped>\n",
              "    .dataframe tbody tr th:only-of-type {\n",
              "        vertical-align: middle;\n",
              "    }\n",
              "\n",
              "    .dataframe tbody tr th {\n",
              "        vertical-align: top;\n",
              "    }\n",
              "\n",
              "    .dataframe thead th {\n",
              "        text-align: right;\n",
              "    }\n",
              "</style>\n",
              "<table border=\"1\" class=\"dataframe\">\n",
              "  <thead>\n",
              "    <tr style=\"text-align: right;\">\n",
              "      <th></th>\n",
              "      <th>TXN_DATE_TIME</th>\n",
              "      <th>TRANSACTION_ID</th>\n",
              "      <th>CUSTOMER_ID</th>\n",
              "      <th>POLICY_NUMBER</th>\n",
              "      <th>POLICY_EFF_DT</th>\n",
              "      <th>LOSS_DT</th>\n",
              "      <th>REPORT_DT</th>\n",
              "      <th>INSURANCE_TYPE</th>\n",
              "      <th>PREMIUM_AMOUNT</th>\n",
              "      <th>CLAIM_AMOUNT</th>\n",
              "      <th>...</th>\n",
              "      <th>POSTAL_CODE_y</th>\n",
              "      <th>EMP_ROUTING_NUMBER</th>\n",
              "      <th>EMP_ACCT_NUMBER</th>\n",
              "      <th>VENDOR_NAME</th>\n",
              "      <th>ADDRESS_LINE1</th>\n",
              "      <th>ADDRESS_LINE2</th>\n",
              "      <th>CITY</th>\n",
              "      <th>STATE</th>\n",
              "      <th>POSTAL_CODE</th>\n",
              "      <th>COLOCATION</th>\n",
              "    </tr>\n",
              "  </thead>\n",
              "  <tbody>\n",
              "    <tr>\n",
              "      <th>0</th>\n",
              "      <td>2020-06-01 00:00:00</td>\n",
              "      <td>TXN00000001</td>\n",
              "      <td>A00003822</td>\n",
              "      <td>PLC00008468</td>\n",
              "      <td>2015-06-23</td>\n",
              "      <td>2020-05-16</td>\n",
              "      <td>2020-05-21</td>\n",
              "      <td>Health</td>\n",
              "      <td>157.13</td>\n",
              "      <td>9000.0</td>\n",
              "      <td>...</td>\n",
              "      <td>37217.0</td>\n",
              "      <td>35441155.0</td>\n",
              "      <td>LRZO53254369804934</td>\n",
              "      <td>Ramsey Inc</td>\n",
              "      <td>3114 West 20th Court</td>\n",
              "      <td>NaN</td>\n",
              "      <td>Panama City</td>\n",
              "      <td>FL</td>\n",
              "      <td>32405.0</td>\n",
              "      <td>0</td>\n",
              "    </tr>\n",
              "    <tr>\n",
              "      <th>1</th>\n",
              "      <td>2020-06-01 00:00:00</td>\n",
              "      <td>TXN00000002</td>\n",
              "      <td>A00008149</td>\n",
              "      <td>PLC00009594</td>\n",
              "      <td>2018-04-21</td>\n",
              "      <td>2020-05-13</td>\n",
              "      <td>2020-05-18</td>\n",
              "      <td>Property</td>\n",
              "      <td>141.71</td>\n",
              "      <td>26000.0</td>\n",
              "      <td>...</td>\n",
              "      <td>85301.0</td>\n",
              "      <td>44055451.0</td>\n",
              "      <td>XBYG14382904542874</td>\n",
              "      <td>Morales, Campbell and Washington</td>\n",
              "      <td>42 West Louise Street</td>\n",
              "      <td>B</td>\n",
              "      <td>Fayetteville</td>\n",
              "      <td>AR</td>\n",
              "      <td>72701.0</td>\n",
              "      <td>0</td>\n",
              "    </tr>\n",
              "    <tr>\n",
              "      <th>2</th>\n",
              "      <td>2020-06-01 00:00:00</td>\n",
              "      <td>TXN00000003</td>\n",
              "      <td>A00003172</td>\n",
              "      <td>PLC00007969</td>\n",
              "      <td>2019-10-03</td>\n",
              "      <td>2020-05-21</td>\n",
              "      <td>2020-05-26</td>\n",
              "      <td>Property</td>\n",
              "      <td>157.24</td>\n",
              "      <td>13000.0</td>\n",
              "      <td>...</td>\n",
              "      <td>36105.0</td>\n",
              "      <td>55770246.0</td>\n",
              "      <td>WRXH14597428306333</td>\n",
              "      <td>Johnson Ltd</td>\n",
              "      <td>2619 North Quality Lane</td>\n",
              "      <td>#315</td>\n",
              "      <td>Fayetteville</td>\n",
              "      <td>AR</td>\n",
              "      <td>72703.0</td>\n",
              "      <td>0</td>\n",
              "    </tr>\n",
              "    <tr>\n",
              "      <th>3</th>\n",
              "      <td>2020-06-01 00:00:00</td>\n",
              "      <td>TXN00000004</td>\n",
              "      <td>A00007572</td>\n",
              "      <td>PLC00009292</td>\n",
              "      <td>2016-11-29</td>\n",
              "      <td>2020-05-14</td>\n",
              "      <td>2020-05-19</td>\n",
              "      <td>Health</td>\n",
              "      <td>172.87</td>\n",
              "      <td>16000.0</td>\n",
              "      <td>...</td>\n",
              "      <td>73071.0</td>\n",
              "      <td>87652976.0</td>\n",
              "      <td>YEPN16077902472499</td>\n",
              "      <td>Blackwell-Foster</td>\n",
              "      <td>3609 Meadow Drive</td>\n",
              "      <td>NaN</td>\n",
              "      <td>Nashville</td>\n",
              "      <td>TN</td>\n",
              "      <td>37215.0</td>\n",
              "      <td>0</td>\n",
              "    </tr>\n",
              "    <tr>\n",
              "      <th>4</th>\n",
              "      <td>2020-06-01 00:00:00</td>\n",
              "      <td>TXN00000005</td>\n",
              "      <td>A00008173</td>\n",
              "      <td>PLC00000204</td>\n",
              "      <td>2011-12-26</td>\n",
              "      <td>2020-05-17</td>\n",
              "      <td>2020-05-22</td>\n",
              "      <td>Travel</td>\n",
              "      <td>88.53</td>\n",
              "      <td>3000.0</td>\n",
              "      <td>...</td>\n",
              "      <td>21061.0</td>\n",
              "      <td>76119019.0</td>\n",
              "      <td>HZBK86544578578547</td>\n",
              "      <td>Evans-Scott</td>\n",
              "      <td>4001 19th Place Northeast</td>\n",
              "      <td>NaN</td>\n",
              "      <td>Washington</td>\n",
              "      <td>DC</td>\n",
              "      <td>20018.0</td>\n",
              "      <td>0</td>\n",
              "    </tr>\n",
              "  </tbody>\n",
              "</table>\n",
              "<p>5 rows × 54 columns</p>\n",
              "</div>\n",
              "      <button class=\"colab-df-convert\" onclick=\"convertToInteractive('df-01d354dd-1bec-4eba-b2b8-fa1d873a9734')\"\n",
              "              title=\"Convert this dataframe to an interactive table.\"\n",
              "              style=\"display:none;\">\n",
              "        \n",
              "  <svg xmlns=\"http://www.w3.org/2000/svg\" height=\"24px\"viewBox=\"0 0 24 24\"\n",
              "       width=\"24px\">\n",
              "    <path d=\"M0 0h24v24H0V0z\" fill=\"none\"/>\n",
              "    <path d=\"M18.56 5.44l.94 2.06.94-2.06 2.06-.94-2.06-.94-.94-2.06-.94 2.06-2.06.94zm-11 1L8.5 8.5l.94-2.06 2.06-.94-2.06-.94L8.5 2.5l-.94 2.06-2.06.94zm10 10l.94 2.06.94-2.06 2.06-.94-2.06-.94-.94-2.06-.94 2.06-2.06.94z\"/><path d=\"M17.41 7.96l-1.37-1.37c-.4-.4-.92-.59-1.43-.59-.52 0-1.04.2-1.43.59L10.3 9.45l-7.72 7.72c-.78.78-.78 2.05 0 2.83L4 21.41c.39.39.9.59 1.41.59.51 0 1.02-.2 1.41-.59l7.78-7.78 2.81-2.81c.8-.78.8-2.07 0-2.86zM5.41 20L4 18.59l7.72-7.72 1.47 1.35L5.41 20z\"/>\n",
              "  </svg>\n",
              "      </button>\n",
              "      \n",
              "  <style>\n",
              "    .colab-df-container {\n",
              "      display:flex;\n",
              "      flex-wrap:wrap;\n",
              "      gap: 12px;\n",
              "    }\n",
              "\n",
              "    .colab-df-convert {\n",
              "      background-color: #E8F0FE;\n",
              "      border: none;\n",
              "      border-radius: 50%;\n",
              "      cursor: pointer;\n",
              "      display: none;\n",
              "      fill: #1967D2;\n",
              "      height: 32px;\n",
              "      padding: 0 0 0 0;\n",
              "      width: 32px;\n",
              "    }\n",
              "\n",
              "    .colab-df-convert:hover {\n",
              "      background-color: #E2EBFA;\n",
              "      box-shadow: 0px 1px 2px rgba(60, 64, 67, 0.3), 0px 1px 3px 1px rgba(60, 64, 67, 0.15);\n",
              "      fill: #174EA6;\n",
              "    }\n",
              "\n",
              "    [theme=dark] .colab-df-convert {\n",
              "      background-color: #3B4455;\n",
              "      fill: #D2E3FC;\n",
              "    }\n",
              "\n",
              "    [theme=dark] .colab-df-convert:hover {\n",
              "      background-color: #434B5C;\n",
              "      box-shadow: 0px 1px 3px 1px rgba(0, 0, 0, 0.15);\n",
              "      filter: drop-shadow(0px 1px 2px rgba(0, 0, 0, 0.3));\n",
              "      fill: #FFFFFF;\n",
              "    }\n",
              "  </style>\n",
              "\n",
              "      <script>\n",
              "        const buttonEl =\n",
              "          document.querySelector('#df-01d354dd-1bec-4eba-b2b8-fa1d873a9734 button.colab-df-convert');\n",
              "        buttonEl.style.display =\n",
              "          google.colab.kernel.accessAllowed ? 'block' : 'none';\n",
              "\n",
              "        async function convertToInteractive(key) {\n",
              "          const element = document.querySelector('#df-01d354dd-1bec-4eba-b2b8-fa1d873a9734');\n",
              "          const dataTable =\n",
              "            await google.colab.kernel.invokeFunction('convertToInteractive',\n",
              "                                                     [key], {});\n",
              "          if (!dataTable) return;\n",
              "\n",
              "          const docLinkHtml = 'Like what you see? Visit the ' +\n",
              "            '<a target=\"_blank\" href=https://colab.research.google.com/notebooks/data_table.ipynb>data table notebook</a>'\n",
              "            + ' to learn more about interactive tables.';\n",
              "          element.innerHTML = '';\n",
              "          dataTable['output_type'] = 'display_data';\n",
              "          await google.colab.output.renderOutput(dataTable, element);\n",
              "          const docLink = document.createElement('div');\n",
              "          docLink.innerHTML = docLinkHtml;\n",
              "          element.appendChild(docLink);\n",
              "        }\n",
              "      </script>\n",
              "    </div>\n",
              "  </div>\n",
              "  "
            ]
          },
          "metadata": {},
          "execution_count": 23
        }
      ]
    },
    {
      "cell_type": "code",
      "source": [],
      "metadata": {
        "id": "OfWH_DvICPd1"
      },
      "execution_count": null,
      "outputs": []
    },
    {
      "cell_type": "markdown",
      "source": [
        "Task #7\n",
        "Find All Agents who have worked on more than 2 types of Insurance Claims. Sort them by\n",
        "Total Claim Amount Approved under them in descending order"
      ],
      "metadata": {
        "id": "f5x7kQAtNU0y"
      }
    },
    {
      "cell_type": "code",
      "source": [
        "Employee_data.info()"
      ],
      "metadata": {
        "id": "mxZNQkGZMws0",
        "colab": {
          "base_uri": "https://localhost:8080/"
        },
        "outputId": "71a5ec63-6211-4b33-8639-cda6bad4c9bd"
      },
      "execution_count": 24,
      "outputs": [
        {
          "output_type": "stream",
          "name": "stdout",
          "text": [
            "<class 'pandas.core.frame.DataFrame'>\n",
            "RangeIndex: 1200 entries, 0 to 1199\n",
            "Data columns (total 10 columns):\n",
            " #   Column              Non-Null Count  Dtype \n",
            "---  ------              --------------  ----- \n",
            " 0   AGENT_ID            1200 non-null   object\n",
            " 1   AGENT_NAME          1200 non-null   object\n",
            " 2   DATE_OF_JOINING     1200 non-null   object\n",
            " 3   ADDRESS_LINE1       1200 non-null   object\n",
            " 4   ADDRESS_LINE2       179 non-null    object\n",
            " 5   CITY                1193 non-null   object\n",
            " 6   AGENT_STATE         1200 non-null   object\n",
            " 7   POSTAL_CODE         1200 non-null   int64 \n",
            " 8   EMP_ROUTING_NUMBER  1200 non-null   int64 \n",
            " 9   EMP_ACCT_NUMBER     1200 non-null   object\n",
            "dtypes: int64(2), object(8)\n",
            "memory usage: 93.9+ KB\n"
          ]
        }
      ]
    },
    {
      "cell_type": "code",
      "source": [
        "final_df['AGENT_NAME'].value_counts()>=2"
      ],
      "metadata": {
        "colab": {
          "base_uri": "https://localhost:8080/"
        },
        "id": "BFha69hwOLrW",
        "outputId": "dee7170f-e7f8-48ae-e4e8-4ab122911334"
      },
      "execution_count": 25,
      "outputs": [
        {
          "output_type": "execute_result",
          "data": {
            "text/plain": [
              "Frances Kimble        True\n",
              "Gladys Parsons        True\n",
              "Josephine Kraemer     True\n",
              "Robert Ward           True\n",
              "Tracy Straight        True\n",
              "                     ...  \n",
              "Leigh Stogsdill      False\n",
              "Charles Dennison     False\n",
              "Dominique Touhey     False\n",
              "Rosemary Turman      False\n",
              "Charles Tabares      False\n",
              "Name: AGENT_NAME, Length: 1139, dtype: bool"
            ]
          },
          "metadata": {},
          "execution_count": 25
        }
      ]
    },
    {
      "cell_type": "code",
      "source": [
        "Task7 = final_df.groupby('AGENT_NAME')['CLAIM_AMOUNT'].sum()\n",
        "#Sort them by Total Claim Amount Approved under them in descending order\n",
        "Task7.sort_values(ascending = False)"
      ],
      "metadata": {
        "colab": {
          "base_uri": "https://localhost:8080/"
        },
        "id": "MNVNrhUKOLuG",
        "outputId": "f5d8ff73-5b1c-4421-dc5c-84dc066d8fb6"
      },
      "execution_count": 26,
      "outputs": [
        {
          "output_type": "execute_result",
          "data": {
            "text/plain": [
              "AGENT_NAME\n",
              "Clara Barnett      407000.0\n",
              "Don Filkins        303000.0\n",
              "Phillip Moore      234000.0\n",
              "Kelli Miles        227000.0\n",
              "Jose Dame          211000.0\n",
              "                     ...   \n",
              "Kelli Rivas           200.0\n",
              "Joel Buss             100.0\n",
              "Rosemary Turman       100.0\n",
              "John Roten            100.0\n",
              "Betty Walker          100.0\n",
              "Name: CLAIM_AMOUNT, Length: 1139, dtype: float64"
            ]
          },
          "metadata": {},
          "execution_count": 26
        }
      ]
    },
    {
      "cell_type": "code",
      "source": [],
      "metadata": {
        "id": "som97rsITeCG"
      },
      "execution_count": 26,
      "outputs": []
    },
    {
      "cell_type": "markdown",
      "source": [
        "Task #8\n",
        "Mobile & Travel Insurance premium are discounted by 10%\n",
        "Health and Property Insurance premium are increased by 7%\n",
        "Life and Motor Insurance premium are marginally increased by 2%\n",
        "What will be overall change in % of the Premium Amount Collected for all these Customer?\n"
      ],
      "metadata": {
        "id": "uKH7QZITeAjp"
      }
    },
    {
      "cell_type": "code",
      "source": [
        "final_df.tail()"
      ],
      "metadata": {
        "id": "672g16K-OLxN",
        "colab": {
          "base_uri": "https://localhost:8080/",
          "height": 421
        },
        "outputId": "eacb9365-f97f-4bff-d705-ae8baee0d8bf"
      },
      "execution_count": 40,
      "outputs": [
        {
          "output_type": "execute_result",
          "data": {
            "text/plain": [
              "            TXN_DATE_TIME TRANSACTION_ID CUSTOMER_ID POLICY_NUMBER  \\\n",
              "3563  2020-10-23 00:00:00    TXN00003564   A00001141   PLC00000146   \n",
              "3564  2020-10-23 00:00:00    TXN00003565   A00005888   PLC00003958   \n",
              "3565  2020-10-23 00:00:00    TXN00003566   A00008282   PLC00003818   \n",
              "3566  2020-10-23 00:00:00    TXN00003567   A00001827   PLC00009754   \n",
              "3567  2020-10-23 00:00:00    TXN00003568   A00007926       PLC0000   \n",
              "\n",
              "     POLICY_EFF_DT     LOSS_DT   REPORT_DT INSURANCE_TYPE  PREMIUM_AMOUNT  \\\n",
              "3563    2011-11-18  2020-10-16  2020-10-18          Motor          122.72   \n",
              "3564    2016-03-02  2020-10-11  2020-10-16       Property           85.33   \n",
              "3565    2011-05-17  2020-10-05  2020-10-10          Motor          127.22   \n",
              "3566    2012-01-12  2020-10-19  2020-10-20         Mobile            7.87   \n",
              "3567           NaN         NaN         NaN            NaN             NaN   \n",
              "\n",
              "      CLAIM_AMOUNT  ... POSTAL_CODE_y EMP_ROUTING_NUMBER     EMP_ACCT_NUMBER  \\\n",
              "3563        7000.0  ...       73112.0         67592409.0  KYSN26778057936347   \n",
              "3564       22000.0  ...        2343.0         83739602.0  JZWU32952168308378   \n",
              "3565        4000.0  ...       94536.0        117692246.0  JILP51941436097769   \n",
              "3566         400.0  ...        2673.0        127864954.0  RTKX42239312918907   \n",
              "3567           NaN  ...           NaN                NaN                 NaN   \n",
              "\n",
              "                    VENDOR_NAME                        ADDRESS_LINE1  \\\n",
              "3563                        NaN                                  NaN   \n",
              "3564  Trujillo, Jones and Sloan  1508 Massachusetts Avenue Southeast   \n",
              "3565                  Hardy Inc                  2732 Rosedale Place   \n",
              "3566                        NaN                                  NaN   \n",
              "3567                        NaN                                  NaN   \n",
              "\n",
              "      ADDRESS_LINE2        CITY STATE  POSTAL_CODE  COLOCATION  \n",
              "3563            NaN         NaN   NaN          NaN           0  \n",
              "3564            NaN  Washington    DC      20003.0           0  \n",
              "3565            NaN   Nashville    TN      37211.0           0  \n",
              "3566            NaN         NaN   NaN          NaN           0  \n",
              "3567            NaN         NaN   NaN          NaN           0  \n",
              "\n",
              "[5 rows x 54 columns]"
            ],
            "text/html": [
              "\n",
              "  <div id=\"df-55c0cff0-70c4-4863-88f4-4c872961194d\">\n",
              "    <div class=\"colab-df-container\">\n",
              "      <div>\n",
              "<style scoped>\n",
              "    .dataframe tbody tr th:only-of-type {\n",
              "        vertical-align: middle;\n",
              "    }\n",
              "\n",
              "    .dataframe tbody tr th {\n",
              "        vertical-align: top;\n",
              "    }\n",
              "\n",
              "    .dataframe thead th {\n",
              "        text-align: right;\n",
              "    }\n",
              "</style>\n",
              "<table border=\"1\" class=\"dataframe\">\n",
              "  <thead>\n",
              "    <tr style=\"text-align: right;\">\n",
              "      <th></th>\n",
              "      <th>TXN_DATE_TIME</th>\n",
              "      <th>TRANSACTION_ID</th>\n",
              "      <th>CUSTOMER_ID</th>\n",
              "      <th>POLICY_NUMBER</th>\n",
              "      <th>POLICY_EFF_DT</th>\n",
              "      <th>LOSS_DT</th>\n",
              "      <th>REPORT_DT</th>\n",
              "      <th>INSURANCE_TYPE</th>\n",
              "      <th>PREMIUM_AMOUNT</th>\n",
              "      <th>CLAIM_AMOUNT</th>\n",
              "      <th>...</th>\n",
              "      <th>POSTAL_CODE_y</th>\n",
              "      <th>EMP_ROUTING_NUMBER</th>\n",
              "      <th>EMP_ACCT_NUMBER</th>\n",
              "      <th>VENDOR_NAME</th>\n",
              "      <th>ADDRESS_LINE1</th>\n",
              "      <th>ADDRESS_LINE2</th>\n",
              "      <th>CITY</th>\n",
              "      <th>STATE</th>\n",
              "      <th>POSTAL_CODE</th>\n",
              "      <th>COLOCATION</th>\n",
              "    </tr>\n",
              "  </thead>\n",
              "  <tbody>\n",
              "    <tr>\n",
              "      <th>3563</th>\n",
              "      <td>2020-10-23 00:00:00</td>\n",
              "      <td>TXN00003564</td>\n",
              "      <td>A00001141</td>\n",
              "      <td>PLC00000146</td>\n",
              "      <td>2011-11-18</td>\n",
              "      <td>2020-10-16</td>\n",
              "      <td>2020-10-18</td>\n",
              "      <td>Motor</td>\n",
              "      <td>122.72</td>\n",
              "      <td>7000.0</td>\n",
              "      <td>...</td>\n",
              "      <td>73112.0</td>\n",
              "      <td>67592409.0</td>\n",
              "      <td>KYSN26778057936347</td>\n",
              "      <td>NaN</td>\n",
              "      <td>NaN</td>\n",
              "      <td>NaN</td>\n",
              "      <td>NaN</td>\n",
              "      <td>NaN</td>\n",
              "      <td>NaN</td>\n",
              "      <td>0</td>\n",
              "    </tr>\n",
              "    <tr>\n",
              "      <th>3564</th>\n",
              "      <td>2020-10-23 00:00:00</td>\n",
              "      <td>TXN00003565</td>\n",
              "      <td>A00005888</td>\n",
              "      <td>PLC00003958</td>\n",
              "      <td>2016-03-02</td>\n",
              "      <td>2020-10-11</td>\n",
              "      <td>2020-10-16</td>\n",
              "      <td>Property</td>\n",
              "      <td>85.33</td>\n",
              "      <td>22000.0</td>\n",
              "      <td>...</td>\n",
              "      <td>2343.0</td>\n",
              "      <td>83739602.0</td>\n",
              "      <td>JZWU32952168308378</td>\n",
              "      <td>Trujillo, Jones and Sloan</td>\n",
              "      <td>1508 Massachusetts Avenue Southeast</td>\n",
              "      <td>NaN</td>\n",
              "      <td>Washington</td>\n",
              "      <td>DC</td>\n",
              "      <td>20003.0</td>\n",
              "      <td>0</td>\n",
              "    </tr>\n",
              "    <tr>\n",
              "      <th>3565</th>\n",
              "      <td>2020-10-23 00:00:00</td>\n",
              "      <td>TXN00003566</td>\n",
              "      <td>A00008282</td>\n",
              "      <td>PLC00003818</td>\n",
              "      <td>2011-05-17</td>\n",
              "      <td>2020-10-05</td>\n",
              "      <td>2020-10-10</td>\n",
              "      <td>Motor</td>\n",
              "      <td>127.22</td>\n",
              "      <td>4000.0</td>\n",
              "      <td>...</td>\n",
              "      <td>94536.0</td>\n",
              "      <td>117692246.0</td>\n",
              "      <td>JILP51941436097769</td>\n",
              "      <td>Hardy Inc</td>\n",
              "      <td>2732 Rosedale Place</td>\n",
              "      <td>NaN</td>\n",
              "      <td>Nashville</td>\n",
              "      <td>TN</td>\n",
              "      <td>37211.0</td>\n",
              "      <td>0</td>\n",
              "    </tr>\n",
              "    <tr>\n",
              "      <th>3566</th>\n",
              "      <td>2020-10-23 00:00:00</td>\n",
              "      <td>TXN00003567</td>\n",
              "      <td>A00001827</td>\n",
              "      <td>PLC00009754</td>\n",
              "      <td>2012-01-12</td>\n",
              "      <td>2020-10-19</td>\n",
              "      <td>2020-10-20</td>\n",
              "      <td>Mobile</td>\n",
              "      <td>7.87</td>\n",
              "      <td>400.0</td>\n",
              "      <td>...</td>\n",
              "      <td>2673.0</td>\n",
              "      <td>127864954.0</td>\n",
              "      <td>RTKX42239312918907</td>\n",
              "      <td>NaN</td>\n",
              "      <td>NaN</td>\n",
              "      <td>NaN</td>\n",
              "      <td>NaN</td>\n",
              "      <td>NaN</td>\n",
              "      <td>NaN</td>\n",
              "      <td>0</td>\n",
              "    </tr>\n",
              "    <tr>\n",
              "      <th>3567</th>\n",
              "      <td>2020-10-23 00:00:00</td>\n",
              "      <td>TXN00003568</td>\n",
              "      <td>A00007926</td>\n",
              "      <td>PLC0000</td>\n",
              "      <td>NaN</td>\n",
              "      <td>NaN</td>\n",
              "      <td>NaN</td>\n",
              "      <td>NaN</td>\n",
              "      <td>NaN</td>\n",
              "      <td>NaN</td>\n",
              "      <td>...</td>\n",
              "      <td>NaN</td>\n",
              "      <td>NaN</td>\n",
              "      <td>NaN</td>\n",
              "      <td>NaN</td>\n",
              "      <td>NaN</td>\n",
              "      <td>NaN</td>\n",
              "      <td>NaN</td>\n",
              "      <td>NaN</td>\n",
              "      <td>NaN</td>\n",
              "      <td>0</td>\n",
              "    </tr>\n",
              "  </tbody>\n",
              "</table>\n",
              "<p>5 rows × 54 columns</p>\n",
              "</div>\n",
              "      <button class=\"colab-df-convert\" onclick=\"convertToInteractive('df-55c0cff0-70c4-4863-88f4-4c872961194d')\"\n",
              "              title=\"Convert this dataframe to an interactive table.\"\n",
              "              style=\"display:none;\">\n",
              "        \n",
              "  <svg xmlns=\"http://www.w3.org/2000/svg\" height=\"24px\"viewBox=\"0 0 24 24\"\n",
              "       width=\"24px\">\n",
              "    <path d=\"M0 0h24v24H0V0z\" fill=\"none\"/>\n",
              "    <path d=\"M18.56 5.44l.94 2.06.94-2.06 2.06-.94-2.06-.94-.94-2.06-.94 2.06-2.06.94zm-11 1L8.5 8.5l.94-2.06 2.06-.94-2.06-.94L8.5 2.5l-.94 2.06-2.06.94zm10 10l.94 2.06.94-2.06 2.06-.94-2.06-.94-.94-2.06-.94 2.06-2.06.94z\"/><path d=\"M17.41 7.96l-1.37-1.37c-.4-.4-.92-.59-1.43-.59-.52 0-1.04.2-1.43.59L10.3 9.45l-7.72 7.72c-.78.78-.78 2.05 0 2.83L4 21.41c.39.39.9.59 1.41.59.51 0 1.02-.2 1.41-.59l7.78-7.78 2.81-2.81c.8-.78.8-2.07 0-2.86zM5.41 20L4 18.59l7.72-7.72 1.47 1.35L5.41 20z\"/>\n",
              "  </svg>\n",
              "      </button>\n",
              "      \n",
              "  <style>\n",
              "    .colab-df-container {\n",
              "      display:flex;\n",
              "      flex-wrap:wrap;\n",
              "      gap: 12px;\n",
              "    }\n",
              "\n",
              "    .colab-df-convert {\n",
              "      background-color: #E8F0FE;\n",
              "      border: none;\n",
              "      border-radius: 50%;\n",
              "      cursor: pointer;\n",
              "      display: none;\n",
              "      fill: #1967D2;\n",
              "      height: 32px;\n",
              "      padding: 0 0 0 0;\n",
              "      width: 32px;\n",
              "    }\n",
              "\n",
              "    .colab-df-convert:hover {\n",
              "      background-color: #E2EBFA;\n",
              "      box-shadow: 0px 1px 2px rgba(60, 64, 67, 0.3), 0px 1px 3px 1px rgba(60, 64, 67, 0.15);\n",
              "      fill: #174EA6;\n",
              "    }\n",
              "\n",
              "    [theme=dark] .colab-df-convert {\n",
              "      background-color: #3B4455;\n",
              "      fill: #D2E3FC;\n",
              "    }\n",
              "\n",
              "    [theme=dark] .colab-df-convert:hover {\n",
              "      background-color: #434B5C;\n",
              "      box-shadow: 0px 1px 3px 1px rgba(0, 0, 0, 0.15);\n",
              "      filter: drop-shadow(0px 1px 2px rgba(0, 0, 0, 0.3));\n",
              "      fill: #FFFFFF;\n",
              "    }\n",
              "  </style>\n",
              "\n",
              "      <script>\n",
              "        const buttonEl =\n",
              "          document.querySelector('#df-55c0cff0-70c4-4863-88f4-4c872961194d button.colab-df-convert');\n",
              "        buttonEl.style.display =\n",
              "          google.colab.kernel.accessAllowed ? 'block' : 'none';\n",
              "\n",
              "        async function convertToInteractive(key) {\n",
              "          const element = document.querySelector('#df-55c0cff0-70c4-4863-88f4-4c872961194d');\n",
              "          const dataTable =\n",
              "            await google.colab.kernel.invokeFunction('convertToInteractive',\n",
              "                                                     [key], {});\n",
              "          if (!dataTable) return;\n",
              "\n",
              "          const docLinkHtml = 'Like what you see? Visit the ' +\n",
              "            '<a target=\"_blank\" href=https://colab.research.google.com/notebooks/data_table.ipynb>data table notebook</a>'\n",
              "            + ' to learn more about interactive tables.';\n",
              "          element.innerHTML = '';\n",
              "          dataTable['output_type'] = 'display_data';\n",
              "          await google.colab.output.renderOutput(dataTable, element);\n",
              "          const docLink = document.createElement('div');\n",
              "          docLink.innerHTML = docLinkHtml;\n",
              "          element.appendChild(docLink);\n",
              "        }\n",
              "      </script>\n",
              "    </div>\n",
              "  </div>\n",
              "  "
            ]
          },
          "metadata": {},
          "execution_count": 40
        }
      ]
    },
    {
      "cell_type": "code",
      "source": [
        "#before that we should drop last row because max. varible is nan over there\n",
        "#final_df.drop([3567], axis=0, inplace=True)\n",
        "final_df.tail()"
      ],
      "metadata": {
        "colab": {
          "base_uri": "https://localhost:8080/",
          "height": 421
        },
        "id": "20QwxcWZEjOA",
        "outputId": "d0f18463-ae66-43b2-e2a4-ce0a86b83dd4"
      },
      "execution_count": 46,
      "outputs": [
        {
          "output_type": "execute_result",
          "data": {
            "text/plain": [
              "            TXN_DATE_TIME TRANSACTION_ID CUSTOMER_ID POLICY_NUMBER  \\\n",
              "3562  2020-10-23 00:00:00    TXN00003563   A00000397   PLC00007031   \n",
              "3563  2020-10-23 00:00:00    TXN00003564   A00001141   PLC00000146   \n",
              "3564  2020-10-23 00:00:00    TXN00003565   A00005888   PLC00003958   \n",
              "3565  2020-10-23 00:00:00    TXN00003566   A00008282   PLC00003818   \n",
              "3566  2020-10-23 00:00:00    TXN00003567   A00001827   PLC00009754   \n",
              "\n",
              "     POLICY_EFF_DT     LOSS_DT   REPORT_DT INSURANCE_TYPE  PREMIUM_AMOUNT  \\\n",
              "3562    2010-10-01  2020-10-22  2020-10-22           Life           99.67   \n",
              "3563    2011-11-18  2020-10-16  2020-10-18          Motor          122.72   \n",
              "3564    2016-03-02  2020-10-11  2020-10-16       Property           85.33   \n",
              "3565    2011-05-17  2020-10-05  2020-10-10          Motor          127.22   \n",
              "3566    2012-01-12  2020-10-19  2020-10-20         Mobile            7.87   \n",
              "\n",
              "      CLAIM_AMOUNT  ... POSTAL_CODE_y EMP_ROUTING_NUMBER     EMP_ACCT_NUMBER  \\\n",
              "3562       97000.0  ...       72701.0        118821676.0  LYCA65725413836979   \n",
              "3563        7000.0  ...       73112.0         67592409.0  KYSN26778057936347   \n",
              "3564       22000.0  ...        2343.0         83739602.0  JZWU32952168308378   \n",
              "3565        4000.0  ...       94536.0        117692246.0  JILP51941436097769   \n",
              "3566         400.0  ...        2673.0        127864954.0  RTKX42239312918907   \n",
              "\n",
              "                    VENDOR_NAME                        ADDRESS_LINE1  \\\n",
              "3562                        NaN                                  NaN   \n",
              "3563                        NaN                                  NaN   \n",
              "3564  Trujillo, Jones and Sloan  1508 Massachusetts Avenue Southeast   \n",
              "3565                  Hardy Inc                  2732 Rosedale Place   \n",
              "3566                        NaN                                  NaN   \n",
              "\n",
              "      ADDRESS_LINE2        CITY STATE  POSTAL_CODE  COLOCATION  \n",
              "3562            NaN         NaN   NaN          NaN           0  \n",
              "3563            NaN         NaN   NaN          NaN           0  \n",
              "3564            NaN  Washington    DC      20003.0           0  \n",
              "3565            NaN   Nashville    TN      37211.0           0  \n",
              "3566            NaN         NaN   NaN          NaN           0  \n",
              "\n",
              "[5 rows x 54 columns]"
            ],
            "text/html": [
              "\n",
              "  <div id=\"df-e40467a6-6753-434c-80e7-6b9658e14f80\">\n",
              "    <div class=\"colab-df-container\">\n",
              "      <div>\n",
              "<style scoped>\n",
              "    .dataframe tbody tr th:only-of-type {\n",
              "        vertical-align: middle;\n",
              "    }\n",
              "\n",
              "    .dataframe tbody tr th {\n",
              "        vertical-align: top;\n",
              "    }\n",
              "\n",
              "    .dataframe thead th {\n",
              "        text-align: right;\n",
              "    }\n",
              "</style>\n",
              "<table border=\"1\" class=\"dataframe\">\n",
              "  <thead>\n",
              "    <tr style=\"text-align: right;\">\n",
              "      <th></th>\n",
              "      <th>TXN_DATE_TIME</th>\n",
              "      <th>TRANSACTION_ID</th>\n",
              "      <th>CUSTOMER_ID</th>\n",
              "      <th>POLICY_NUMBER</th>\n",
              "      <th>POLICY_EFF_DT</th>\n",
              "      <th>LOSS_DT</th>\n",
              "      <th>REPORT_DT</th>\n",
              "      <th>INSURANCE_TYPE</th>\n",
              "      <th>PREMIUM_AMOUNT</th>\n",
              "      <th>CLAIM_AMOUNT</th>\n",
              "      <th>...</th>\n",
              "      <th>POSTAL_CODE_y</th>\n",
              "      <th>EMP_ROUTING_NUMBER</th>\n",
              "      <th>EMP_ACCT_NUMBER</th>\n",
              "      <th>VENDOR_NAME</th>\n",
              "      <th>ADDRESS_LINE1</th>\n",
              "      <th>ADDRESS_LINE2</th>\n",
              "      <th>CITY</th>\n",
              "      <th>STATE</th>\n",
              "      <th>POSTAL_CODE</th>\n",
              "      <th>COLOCATION</th>\n",
              "    </tr>\n",
              "  </thead>\n",
              "  <tbody>\n",
              "    <tr>\n",
              "      <th>3562</th>\n",
              "      <td>2020-10-23 00:00:00</td>\n",
              "      <td>TXN00003563</td>\n",
              "      <td>A00000397</td>\n",
              "      <td>PLC00007031</td>\n",
              "      <td>2010-10-01</td>\n",
              "      <td>2020-10-22</td>\n",
              "      <td>2020-10-22</td>\n",
              "      <td>Life</td>\n",
              "      <td>99.67</td>\n",
              "      <td>97000.0</td>\n",
              "      <td>...</td>\n",
              "      <td>72701.0</td>\n",
              "      <td>118821676.0</td>\n",
              "      <td>LYCA65725413836979</td>\n",
              "      <td>NaN</td>\n",
              "      <td>NaN</td>\n",
              "      <td>NaN</td>\n",
              "      <td>NaN</td>\n",
              "      <td>NaN</td>\n",
              "      <td>NaN</td>\n",
              "      <td>0</td>\n",
              "    </tr>\n",
              "    <tr>\n",
              "      <th>3563</th>\n",
              "      <td>2020-10-23 00:00:00</td>\n",
              "      <td>TXN00003564</td>\n",
              "      <td>A00001141</td>\n",
              "      <td>PLC00000146</td>\n",
              "      <td>2011-11-18</td>\n",
              "      <td>2020-10-16</td>\n",
              "      <td>2020-10-18</td>\n",
              "      <td>Motor</td>\n",
              "      <td>122.72</td>\n",
              "      <td>7000.0</td>\n",
              "      <td>...</td>\n",
              "      <td>73112.0</td>\n",
              "      <td>67592409.0</td>\n",
              "      <td>KYSN26778057936347</td>\n",
              "      <td>NaN</td>\n",
              "      <td>NaN</td>\n",
              "      <td>NaN</td>\n",
              "      <td>NaN</td>\n",
              "      <td>NaN</td>\n",
              "      <td>NaN</td>\n",
              "      <td>0</td>\n",
              "    </tr>\n",
              "    <tr>\n",
              "      <th>3564</th>\n",
              "      <td>2020-10-23 00:00:00</td>\n",
              "      <td>TXN00003565</td>\n",
              "      <td>A00005888</td>\n",
              "      <td>PLC00003958</td>\n",
              "      <td>2016-03-02</td>\n",
              "      <td>2020-10-11</td>\n",
              "      <td>2020-10-16</td>\n",
              "      <td>Property</td>\n",
              "      <td>85.33</td>\n",
              "      <td>22000.0</td>\n",
              "      <td>...</td>\n",
              "      <td>2343.0</td>\n",
              "      <td>83739602.0</td>\n",
              "      <td>JZWU32952168308378</td>\n",
              "      <td>Trujillo, Jones and Sloan</td>\n",
              "      <td>1508 Massachusetts Avenue Southeast</td>\n",
              "      <td>NaN</td>\n",
              "      <td>Washington</td>\n",
              "      <td>DC</td>\n",
              "      <td>20003.0</td>\n",
              "      <td>0</td>\n",
              "    </tr>\n",
              "    <tr>\n",
              "      <th>3565</th>\n",
              "      <td>2020-10-23 00:00:00</td>\n",
              "      <td>TXN00003566</td>\n",
              "      <td>A00008282</td>\n",
              "      <td>PLC00003818</td>\n",
              "      <td>2011-05-17</td>\n",
              "      <td>2020-10-05</td>\n",
              "      <td>2020-10-10</td>\n",
              "      <td>Motor</td>\n",
              "      <td>127.22</td>\n",
              "      <td>4000.0</td>\n",
              "      <td>...</td>\n",
              "      <td>94536.0</td>\n",
              "      <td>117692246.0</td>\n",
              "      <td>JILP51941436097769</td>\n",
              "      <td>Hardy Inc</td>\n",
              "      <td>2732 Rosedale Place</td>\n",
              "      <td>NaN</td>\n",
              "      <td>Nashville</td>\n",
              "      <td>TN</td>\n",
              "      <td>37211.0</td>\n",
              "      <td>0</td>\n",
              "    </tr>\n",
              "    <tr>\n",
              "      <th>3566</th>\n",
              "      <td>2020-10-23 00:00:00</td>\n",
              "      <td>TXN00003567</td>\n",
              "      <td>A00001827</td>\n",
              "      <td>PLC00009754</td>\n",
              "      <td>2012-01-12</td>\n",
              "      <td>2020-10-19</td>\n",
              "      <td>2020-10-20</td>\n",
              "      <td>Mobile</td>\n",
              "      <td>7.87</td>\n",
              "      <td>400.0</td>\n",
              "      <td>...</td>\n",
              "      <td>2673.0</td>\n",
              "      <td>127864954.0</td>\n",
              "      <td>RTKX42239312918907</td>\n",
              "      <td>NaN</td>\n",
              "      <td>NaN</td>\n",
              "      <td>NaN</td>\n",
              "      <td>NaN</td>\n",
              "      <td>NaN</td>\n",
              "      <td>NaN</td>\n",
              "      <td>0</td>\n",
              "    </tr>\n",
              "  </tbody>\n",
              "</table>\n",
              "<p>5 rows × 54 columns</p>\n",
              "</div>\n",
              "      <button class=\"colab-df-convert\" onclick=\"convertToInteractive('df-e40467a6-6753-434c-80e7-6b9658e14f80')\"\n",
              "              title=\"Convert this dataframe to an interactive table.\"\n",
              "              style=\"display:none;\">\n",
              "        \n",
              "  <svg xmlns=\"http://www.w3.org/2000/svg\" height=\"24px\"viewBox=\"0 0 24 24\"\n",
              "       width=\"24px\">\n",
              "    <path d=\"M0 0h24v24H0V0z\" fill=\"none\"/>\n",
              "    <path d=\"M18.56 5.44l.94 2.06.94-2.06 2.06-.94-2.06-.94-.94-2.06-.94 2.06-2.06.94zm-11 1L8.5 8.5l.94-2.06 2.06-.94-2.06-.94L8.5 2.5l-.94 2.06-2.06.94zm10 10l.94 2.06.94-2.06 2.06-.94-2.06-.94-.94-2.06-.94 2.06-2.06.94z\"/><path d=\"M17.41 7.96l-1.37-1.37c-.4-.4-.92-.59-1.43-.59-.52 0-1.04.2-1.43.59L10.3 9.45l-7.72 7.72c-.78.78-.78 2.05 0 2.83L4 21.41c.39.39.9.59 1.41.59.51 0 1.02-.2 1.41-.59l7.78-7.78 2.81-2.81c.8-.78.8-2.07 0-2.86zM5.41 20L4 18.59l7.72-7.72 1.47 1.35L5.41 20z\"/>\n",
              "  </svg>\n",
              "      </button>\n",
              "      \n",
              "  <style>\n",
              "    .colab-df-container {\n",
              "      display:flex;\n",
              "      flex-wrap:wrap;\n",
              "      gap: 12px;\n",
              "    }\n",
              "\n",
              "    .colab-df-convert {\n",
              "      background-color: #E8F0FE;\n",
              "      border: none;\n",
              "      border-radius: 50%;\n",
              "      cursor: pointer;\n",
              "      display: none;\n",
              "      fill: #1967D2;\n",
              "      height: 32px;\n",
              "      padding: 0 0 0 0;\n",
              "      width: 32px;\n",
              "    }\n",
              "\n",
              "    .colab-df-convert:hover {\n",
              "      background-color: #E2EBFA;\n",
              "      box-shadow: 0px 1px 2px rgba(60, 64, 67, 0.3), 0px 1px 3px 1px rgba(60, 64, 67, 0.15);\n",
              "      fill: #174EA6;\n",
              "    }\n",
              "\n",
              "    [theme=dark] .colab-df-convert {\n",
              "      background-color: #3B4455;\n",
              "      fill: #D2E3FC;\n",
              "    }\n",
              "\n",
              "    [theme=dark] .colab-df-convert:hover {\n",
              "      background-color: #434B5C;\n",
              "      box-shadow: 0px 1px 3px 1px rgba(0, 0, 0, 0.15);\n",
              "      filter: drop-shadow(0px 1px 2px rgba(0, 0, 0, 0.3));\n",
              "      fill: #FFFFFF;\n",
              "    }\n",
              "  </style>\n",
              "\n",
              "      <script>\n",
              "        const buttonEl =\n",
              "          document.querySelector('#df-e40467a6-6753-434c-80e7-6b9658e14f80 button.colab-df-convert');\n",
              "        buttonEl.style.display =\n",
              "          google.colab.kernel.accessAllowed ? 'block' : 'none';\n",
              "\n",
              "        async function convertToInteractive(key) {\n",
              "          const element = document.querySelector('#df-e40467a6-6753-434c-80e7-6b9658e14f80');\n",
              "          const dataTable =\n",
              "            await google.colab.kernel.invokeFunction('convertToInteractive',\n",
              "                                                     [key], {});\n",
              "          if (!dataTable) return;\n",
              "\n",
              "          const docLinkHtml = 'Like what you see? Visit the ' +\n",
              "            '<a target=\"_blank\" href=https://colab.research.google.com/notebooks/data_table.ipynb>data table notebook</a>'\n",
              "            + ' to learn more about interactive tables.';\n",
              "          element.innerHTML = '';\n",
              "          dataTable['output_type'] = 'display_data';\n",
              "          await google.colab.output.renderOutput(dataTable, element);\n",
              "          const docLink = document.createElement('div');\n",
              "          docLink.innerHTML = docLinkHtml;\n",
              "          element.appendChild(docLink);\n",
              "        }\n",
              "      </script>\n",
              "    </div>\n",
              "  </div>\n",
              "  "
            ]
          },
          "metadata": {},
          "execution_count": 46
        }
      ]
    },
    {
      "cell_type": "code",
      "source": [
        "discount_pre=[]\n",
        "for i in range(0,3568):\n",
        "  if final_df['INSURANCE_TYPE'][i]=='Health' or final_df['INSURANCE_TYPE'][i]== 'Property':\n",
        "    discount_pre.append(final_df['PREMIUM_AMOUNT'][i]*1.07)\n",
        "  elif final_df['INSURANCE_TYPE'][i]=='Mobile' or final_df['INSURANCE_TYPE'][i]== 'Travel':\n",
        "    discount_pre.append(final_df['PREMIUM_AMOUNT'][i]*0.90)\n",
        "  elif final_df['INSURANCE_TYPE'][i]=='Life' or final_df['INSURANCE_TYPE'][i]== 'Motor':\n",
        "    discount_pre.append(final_df['PREMIUM_AMOUNT'][i]*1.02)\n"
      ],
      "metadata": {
        "id": "zXWr87FXRccx"
      },
      "execution_count": 32,
      "outputs": []
    },
    {
      "cell_type": "code",
      "source": [],
      "metadata": {
        "id": "xKfPI_qIC7cW"
      },
      "execution_count": 47,
      "outputs": []
    },
    {
      "cell_type": "code",
      "source": [
        "final_df['NEW_PREMIUM'] = discount_pre\n"
      ],
      "metadata": {
        "id": "XTO810zom1ps"
      },
      "execution_count": 48,
      "outputs": []
    },
    {
      "cell_type": "code",
      "source": [
        "#What will be overall change in % of the Premium Amount Collected for all these Customer?\n",
        "(final_df['NEW_PREMIUM'].sum()-final_df['PREMIUM_AMOUNT'].sum())*100/final_df['PREMIUM_AMOUNT'].sum()"
      ],
      "metadata": {
        "colab": {
          "base_uri": "https://localhost:8080/"
        },
        "id": "QR7LcBdPm1v_",
        "outputId": "34d58739-69c5-4ccc-f673-481596dd4db1"
      },
      "execution_count": 49,
      "outputs": [
        {
          "output_type": "execute_result",
          "data": {
            "text/plain": [
              "2.659756671685502"
            ]
          },
          "metadata": {},
          "execution_count": 49
        }
      ]
    },
    {
      "cell_type": "markdown",
      "source": [
        "Task #9 Business wants to give discount to customer who are loyal and under stress due to Covid\n",
        "19. They have laid down an eligibility Criteria as follow\n",
        "IF CUSTOMER_TENURE > 60 AND EMPLOYMENT_STATUS = “N”\n",
        "AND NO_OF_FAMILY_MEMBERS >=4 THEN 1 ELSE 0\n",
        "Create a new column “ELIGIBLE_FOR_DISCOUNT” and find it\n",
        "mean."
      ],
      "metadata": {
        "id": "cqaq5i49oY5f"
      }
    },
    {
      "cell_type": "code",
      "source": [
        "ELIGIBLE_FOR_DISCOUNT=[]\n",
        "for i in range(0,3567):\n",
        "  if Insurance_data['TENURE'][i] > 60 and Insurance_data['EMPLOYMENT_STATUS'][i] =='N' and Insurance_data['NO_OF_FAMILY_MEMBERS'][i] >= 4:\n",
        "    ELIGIBLE_FOR_DISCOUNT.append(1)\n",
        "  else:\n",
        "    ELIGIBLE_FOR_DISCOUNT.append(0)"
      ],
      "metadata": {
        "id": "fABc21lFn_-a"
      },
      "execution_count": 50,
      "outputs": []
    },
    {
      "cell_type": "code",
      "source": [
        "final_df['ELIGIBLE_FOR_DISCOUNT'] = ELIGIBLE_FOR_DISCOUNT\n",
        "final_df.head()\n",
        "print(\"the mean of this new column\",final_df['ELIGIBLE_FOR_DISCOUNT'].mean())"
      ],
      "metadata": {
        "colab": {
          "base_uri": "https://localhost:8080/"
        },
        "id": "IovYUV0eqj4H",
        "outputId": "239b7cff-e5e8-4bc7-8267-b676017968ca"
      },
      "execution_count": 51,
      "outputs": [
        {
          "output_type": "stream",
          "name": "stdout",
          "text": [
            "the mean of this new column 0.033081020465377066\n"
          ]
        }
      ]
    },
    {
      "cell_type": "markdown",
      "source": [
        "Task 11 Find all low performing agents i.e. employees who are in the bottom 5 percentile based\n",
        "on Claims worked by them.\n"
      ],
      "metadata": {
        "id": "A7zdvGETyA7u"
      }
    },
    {
      "cell_type": "code",
      "source": [
        "Task11 = final_df.groupby('AGENT_NAME')['CLAIM_AMOUNT'].sum()\n",
        "#Sort them by Total Claim Amount Approved under them in descending order\n",
        "Task11.sort_values(ascending = True).head()\n",
        "\n"
      ],
      "metadata": {
        "id": "b5_hR5t1x-fo",
        "colab": {
          "base_uri": "https://localhost:8080/"
        },
        "outputId": "3371d7aa-89a0-4d7c-ffd0-f8bc4387850b"
      },
      "execution_count": 53,
      "outputs": [
        {
          "output_type": "execute_result",
          "data": {
            "text/plain": [
              "AGENT_NAME\n",
              "Joel Buss          100.0\n",
              "Betty Walker       100.0\n",
              "John Roten         100.0\n",
              "Rosemary Turman    100.0\n",
              "Fred Watson        200.0\n",
              "Name: CLAIM_AMOUNT, dtype: float64"
            ]
          },
          "metadata": {},
          "execution_count": 53
        }
      ]
    },
    {
      "cell_type": "code",
      "source": [
        "final_df.to_excel(\"final_df.xlsx\")"
      ],
      "metadata": {
        "id": "fn_d8Y0jx-i2"
      },
      "execution_count": 56,
      "outputs": []
    },
    {
      "cell_type": "code",
      "source": [],
      "metadata": {
        "id": "0Z1Zu4HQKVze"
      },
      "execution_count": null,
      "outputs": []
    },
    {
      "cell_type": "code",
      "source": [],
      "metadata": {
        "id": "Om-EGWpiKV2-"
      },
      "execution_count": null,
      "outputs": []
    }
  ]
}